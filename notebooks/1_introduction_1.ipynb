{
 "cells": [
  {
   "cell_type": "markdown",
   "id": "a209a9ec-89ae-4f66-b0cd-6ec0978a6e6c",
   "metadata": {},
   "source": [
    "# Introduction"
   ]
  },
  {
   "cell_type": "markdown",
   "id": "e3397df7-23b0-4499-91a5-94f1fddd0817",
   "metadata": {},
   "source": [
    "This tutorial will introduce key concepts in machine learning-based causal inference. It’s an ongoing project and new chapters will be uploaded as we finish them. A tentative list of topics that will be covered:\n",
    "\n",
    "* Introduction to Machine Learning\n",
    "* Average Treatment Effects\n",
    "* Heterogeneous Treatment Effects (beta)\n",
    "* Policy Evaluation (beta)\n",
    "* Policy Leaning (beta)\n",
    "\n",
    "Please note that this is currently a living document. Chapters marked as “beta” may change substantially and are in most need of feedback. If you find any issues, please feel free to contact Vitor Hadad at vitorh@stanford.edu. The “changelog” below will keep track of major updates and additions."
   ]
  },
  {
   "cell_type": "markdown",
   "id": "d60cf1af-7f43-47ee-89bd-f30a89b8f409",
   "metadata": {},
   "source": [
    "## Getting started"
   ]
  },
  {
   "cell_type": "markdown",
   "id": "14060128-58ac-4515-847e-305db5abf871",
   "metadata": {},
   "source": [
    "We’ll illustrate key concepts using snippets of Python code. Each chapter in this tutorial is self-contained. You can download the [repository](https://github.com/alexanderquispe/ml_ci_tutorial/tree/main/Python_tutorials). You should be able to rerun most of the code on a different dataset by editing some of the common variables at the top of the notebook (e.g., data, covariates, and outcome). Exceptions to this rule are marked as comments in the text, so please read them carefully."
   ]
  },
  {
   "cell_type": "markdown",
   "id": "b5b277cb-e2fc-42c1-9ec5-7e33d48a56c2",
   "metadata": {},
   "source": [
    "## Changelog"
   ]
  },
  {
   "cell_type": "markdown",
   "id": "9c5ba035-12f0-47cd-a2a0-50aa63827803",
   "metadata": {},
   "source": [
    "* Apr 3, 2021. “Chapter 2: Introduction to Machine Learning” is up.\n",
    "* Apr 12, 2021.\n",
    "    * Fixed broken link to RMD source. Chapters now have a link at the beginning.\n",
    "    * Introduction to ML: Added code to produce colored tables.\n",
    "* Apr 13, 2021.\n",
    "    * Additional links to RMD source.\n",
    "    * Added chapter ATE-1.\n",
    "* Apr 16, 2021. Minor fixes to chapter ATE-1.\n",
    "* Apr 19, 2021. Removing knitr and kableExtra explicit dependency from Chapter 2. * Fixed other minor typos and inconsistencies in Chapter 2.\n",
    "* Apr 26, 2021. Uploading Chapters 3 and 4 (beta versions).\n",
    "* May 4, 2021. Added Chapter 5 (beta version)."
   ]
  },
  {
   "cell_type": "markdown",
   "id": "9ba21af5-2d1e-4cf2-8f90-206e25e861ff",
   "metadata": {},
   "source": [
    "## Acknowledgments"
   ]
  },
  {
   "cell_type": "markdown",
   "id": "a5dbf5a4-ec6a-41a8-ae74-3da82f1dd4fd",
   "metadata": {},
   "source": [
    "This tutorial first started as an extension of documents written in part by research assistants, students, and postdocs at the Golub Capital Social Impact Lab. We thank the authors of those documents: Kaleb K. Javier, Niall Keleher, Sylvia Klosin, Nicolaj Søndergaard Mühlbach, Xinkun Nie, and Matt Schaelling. We also thank other people who have been reading this current draft and providing “live” feedback: Cesar Augusto Lopez, Sylvia Klosin, Janelle R. Nelson, Erik Sverdrup."
   ]
  }
 ],
 "metadata": {
  "kernelspec": {
   "display_name": "Python 3 (ipykernel)",
   "language": "python",
   "name": "python3"
  },
  "language_info": {
   "codemirror_mode": {
    "name": "ipython",
    "version": 3
   },
   "file_extension": ".py",
   "mimetype": "text/x-python",
   "name": "python",
   "nbconvert_exporter": "python",
   "pygments_lexer": "ipython3",
   "version": "3.9.7"
  }
 },
 "nbformat": 4,
 "nbformat_minor": 5
}
