{
 "cells": [
  {
   "cell_type": "code",
   "execution_count": null,
   "id": "79789d01",
   "metadata": {},
   "outputs": [],
   "source": [
    "# pip install -U DoubleML"
   ]
  },
  {
   "cell_type": "code",
   "execution_count": 13,
   "id": "42dcfd1e",
   "metadata": {},
   "outputs": [],
   "source": [
    "import random\n",
    "import pandas as pd\n",
    "import numpy as np\n",
    "from scipy.stats import norm\n",
    "\n",
    "import statsmodels.api as sm\n",
    "import statsmodels.formula.api as smf\n",
    "import patsy\n",
    "from SyncRNG import SyncRNG\n",
    "import numpy as np\n",
    "import re\n",
    "from statsmodels.sandbox.stats.multicomp import multipletests\n",
    "from scipy import linalg\n",
    "from itertools import chain\n",
    "\n",
    "from SyncRNG import SyncRNG\n",
    "\n",
    "from CTL.causal_tree_learn import CausalTree\n",
    "from sklearn.model_selection import train_test_split\n",
    "import plotnine as p\n",
    "import seaborn as sns\n",
    "import matplotlib.pyplot as plt\n",
    "import matplotlib.patches as mpatches"
   ]
  },
  {
   "cell_type": "markdown",
   "id": "b0f01b36",
   "metadata": {},
   "source": [
    "# HTE I: Binary treatment\n",
    "\n",
    "Source RMD file: [link](https://docs.google.com/uc?export=download&id=1FSUi4WLfYYKnvWsNWypiQORhkqf5IlFP)\n",
    "\n",
    "In the previous chapter, we learned how to estimate the effect of a binary treatment averaged over the entire population. However, the average may obscure important details about how different individuals react to the treatment. In this chapter, we will learn how to estimate the **conditional average treatment effect (CATE)**,\n",
    "\n",
    "$$\n",
    "  \\tau(x) := \\mathbf{E}[Y_i(1) - Y_i(0) | X_i = x],\n",
    "$$ (cate)\n",
    "\n",
    "which is a \"localized\" version of the average treatment effect conditional on a vector of observable characteristics. \n",
    "\n",
    "It's often the case that {eq}`cate` is too general to be immediately useful, especially when the observable covariates are high-dimensional. It can be hard to estimate reliably without making strong modeling assumptions, and hard to summarize in a useful manner after estimation. In such situations, we will instead try to estimate treatment effect averages for simpler groups\n",
    "\n",
    "$$\n",
    "  \\mathbf{E}[Y_i(1) - Y_i(0) | G_i = g],\n",
    "$$ (cate-g)\n",
    "\n",
    "where $G_i$ indexes subgroups of interest. Below you'll learn how to estimate and test hypotheses about pre-defined subgroups, and also how to discover subgroups of interest from the data. In this tutorial, you will learn how to use estimates of {eq}`cate` to suggest relevant subgroups $G_i$ (and in the next chapters you will find out other uses of {eq}`cate` in policy learning and evaluation).\n",
    "\n",
    "We'll continue using the abridged version of the General Social Survey (GSS) [(Smith, 2016)](https://gss.norc.org/Documents/reports/project-reports/GSSProject%20report32.pdf) dataset that was introduced in the previous chapter. In this dataset, individuals were sent to treatment or control with equal probability, so we are in a randomized setting. However, many of the techniques and code shown below should also work in an observational setting provided that unconfoundedness and overlap are satisfied (these assumptions were defined in the previous chapter)."
   ]
  },
  {
   "cell_type": "markdown",
   "id": "8a981637",
   "metadata": {},
   "source": [
    "As with other chapters in this tutorial, the code below should still work by replacing the next snippet of code with a different dataset, provided that you update the key variables `treatment`, `outcome`, and `covariates` below. Also, please make sure to read the comments as they may be subtle differences depending on whether your dataset was created in a randomized or observational setting."
   ]
  },
  {
   "cell_type": "code",
   "execution_count": 2,
   "id": "48366a00",
   "metadata": {},
   "outputs": [],
   "source": [
    "# Read in data\n",
    "data = pd.read_csv( \"https://docs.google.com/uc?id=1kSxrVci_EUcSr_Lg1JKk1l7Xd5I9zfRC&export=download\" )\n",
    "n = data.shape[0]\n",
    "\n",
    "# Treatment: does the the gov't spend too much on \"welfare\" (1) or \"assistance to the poor\" (0)\n",
    "treatment = \"w\"\n",
    "\n",
    "# Outcome: 1 for 'yes', 0 for 'no'\n",
    "outcome = \"y\"\n",
    "\n",
    "# Additional covariates\n",
    "covariates = [\"age\", \"polviews\", \"income\", \"educ\", \"marital\", \"sex\"]"
   ]
  },
  {
   "cell_type": "markdown",
   "id": "01bfb00e",
   "metadata": {},
   "source": [
    "## Pre-specified hypotheses\n",
    "\n",
    "We will begin by learning how to test pre-specified null hypotheses of the form\n",
    "\n",
    "$$\n",
    "  H_{0}: \\mathbf{E}[Y(1) - Y(0) | G_i = 1] = \\mathbf{E}[Y(1) - Y(0) | G_i = 0].\n",
    "$$ (hte-hyp)\n",
    "\n",
    "That is, that the treatment effect is the same regardless of membership to some group\n",
    "$G_i$. Importantly, for now we’ll assume that the group $G_i$ was **pre-specified** -- it was decided _before_ looking at the data.\n",
    "\n",
    "In a randomized setting, if the both the treatment  $W_i$ and group membership $G_i$ are binary, we can write\n",
    "\n",
    "$$\n",
    "  \\mathbf{E}[Y_i(W_i)|G_i] = \\mathbf{E}[Y_i|W_i, G_i] = \\beta_0 + \\beta_w W_i + \\beta_g G_i + \\beta_{wg} W_i G_i\n",
    "$$ (linear)\n",
    "\n",
    "<font size=1>\n",
    "When $W_i$ and $G_i$ are binary, this decomposition is true without loss of generality. Why?\n",
    "</font>\n",
    "\n",
    "This allows us to write the average effects of $W_i$ and $G_i$ on $Y_i$ as\n",
    "\n",
    "$$\n",
    "  \\begin{aligned}\n",
    "    \\mathbf{E}[Y(1) | G_i=1] &= \\beta_0 + \\beta_w W_i + \\beta_g G_i + \\beta_{wg} W_i G_i, \\\\\n",
    "    \\mathbf{E}[Y(1) | G_i=0] &= \\beta_0 + \\beta_w W_i,  \\\\\n",
    "    \\mathbf{E}[Y(0) | G_i=1] &= \\beta_0 + \\beta_g G_i,  \\\\\n",
    "    \\mathbf{E}[Y(0) | G_i=0] &= \\beta_0.\n",
    "  \\end{aligned}\n",
    "$$ (decomp)\n",
    "\n",
    "Rewriting the null hypothesis {eq}`hte-hyp` in terms of the decomposition {eq}`decomp`, we see that it boils down to a test about the coefficient in the interaction: $\\beta_{xw} = 0$. Here’s an example that tests whether the treatment effect is the same for \"conservative\" (`polviews` < 4) and \"liberal\" (`polviews` $\\geq$ 4) individuals."
   ]
  },
  {
   "cell_type": "code",
   "execution_count": 3,
   "id": "8c8ae044",
   "metadata": {},
   "outputs": [
    {
     "name": "stdout",
     "output_type": "stream",
     "text": [
      "                               Test for Constraints                               \n",
      "==================================================================================\n",
      "                     coef    std err          z      P>|z|      [0.025      0.975]\n",
      "----------------------------------------------------------------------------------\n",
      "Intercept          0.4836      0.005     95.127      0.000       0.474       0.494\n",
      "w                 -0.3789      0.006    -64.657      0.000      -0.390      -0.367\n",
      "conservative      -0.1590      0.009    -17.195      0.000      -0.177      -0.141\n",
      "w:conservative     0.1160      0.010     11.185      0.000       0.096       0.136\n",
      "==================================================================================\n"
     ]
    }
   ],
   "source": [
    "# Only valid in randomized settings\n",
    "\n",
    "# Suppose this his group was defined prior to collecting the data\n",
    "data[\"conservative\"] = np.multiply(data.polviews < 4, 1)  # a binary group\n",
    "group = 'conservative'\n",
    "\n",
    "# Recall from last chapter -- this is equivalent to running a t-test\n",
    "fmla = 'y ~ w*conservative'\n",
    "ols = smf.ols(fmla, data=data).fit(cov_type='HC2')\n",
    "# print(ols_1.summary())\n",
    "hypotheses = 'Intercept=0, w=0, conservative=0, w:conservative=0'\n",
    "t_test = ols.t_test(hypotheses)\n",
    "print(t_test.summary(xname=list(ols.summary2().tables[1].index)))"
   ]
  },
  {
   "cell_type": "markdown",
   "id": "688f14d9",
   "metadata": {},
   "source": [
    "<font size=1>\n",
    "Interpret the results above. The coefficient $\\beta_{xw}$ is denoted by `w:conservativeTRUE`. Can we detect a difference in treatment effect for conservative vs liberal individuals? For whom is the effect larger?\n",
    "</font>\n",
    "\n",
    "\n",
    "Sometimes there are many subgroups, leading to multiple hypotheses such as\n",
    "\n",
    "$$\n",
    "H_0: \\mathbf{E}[Y(1) - Y(0) \\ | \\  G_i = 1] = \\mathbf{E}[Y(1) - Y(0) \\ | \\  G_i = g]\n",
    "\\qquad\n",
    "\\text{for many values of }g.\n",
    "$$ (mult-hyp)\n",
    "\n",
    "In that case, we need to correct for the fact that we are testing for multiple hypotheses, or we will end up with many false positives. The **Bonferroni correction** [(wiki)](https://en.wikipedia.org/wiki/Bonferroni_correction) is a common method for dealing with multiple hypothesis testing, though it is often too conservative to be useful. It is available via the function `p.adjust` from base `R`. The next snippet of code tests whether the treatment effect at each level of `polviews` is different from the treatment effect from `polviews` equals one."
   ]
  },
  {
   "cell_type": "code",
   "execution_count": 4,
   "id": "f0d32977",
   "metadata": {},
   "outputs": [
    {
     "data": {
      "text/html": [
       "<div>\n",
       "<style scoped>\n",
       "    .dataframe tbody tr th:only-of-type {\n",
       "        vertical-align: middle;\n",
       "    }\n",
       "\n",
       "    .dataframe tbody tr th {\n",
       "        vertical-align: top;\n",
       "    }\n",
       "\n",
       "    .dataframe thead th {\n",
       "        text-align: right;\n",
       "    }\n",
       "</style>\n",
       "<table border=\"1\" class=\"dataframe\">\n",
       "  <thead>\n",
       "    <tr style=\"text-align: right;\">\n",
       "      <th></th>\n",
       "      <th>Estimate</th>\n",
       "      <th>Std.Err.</th>\n",
       "      <th>unadj_p_value</th>\n",
       "      <th>adj_p_value</th>\n",
       "    </tr>\n",
       "  </thead>\n",
       "  <tbody>\n",
       "    <tr>\n",
       "      <th>w:C(polviews)[T.2]</th>\n",
       "      <td>-0.024242</td>\n",
       "      <td>0.027337</td>\n",
       "      <td>3.751982e-01</td>\n",
       "      <td>1.000000e+00</td>\n",
       "    </tr>\n",
       "    <tr>\n",
       "      <th>w:C(polviews)[T.3]</th>\n",
       "      <td>-0.059623</td>\n",
       "      <td>0.027357</td>\n",
       "      <td>2.929996e-02</td>\n",
       "      <td>1.757997e-01</td>\n",
       "    </tr>\n",
       "    <tr>\n",
       "      <th>w:C(polviews)[T.4]</th>\n",
       "      <td>-0.134614</td>\n",
       "      <td>0.025340</td>\n",
       "      <td>1.082607e-07</td>\n",
       "      <td>6.495642e-07</td>\n",
       "    </tr>\n",
       "    <tr>\n",
       "      <th>w:C(polviews)[T.5]</th>\n",
       "      <td>-0.164915</td>\n",
       "      <td>0.027135</td>\n",
       "      <td>1.220112e-09</td>\n",
       "      <td>7.320672e-09</td>\n",
       "    </tr>\n",
       "    <tr>\n",
       "      <th>w:C(polviews)[T.6]</th>\n",
       "      <td>-0.180079</td>\n",
       "      <td>0.027514</td>\n",
       "      <td>5.952137e-11</td>\n",
       "      <td>3.571282e-10</td>\n",
       "    </tr>\n",
       "    <tr>\n",
       "      <th>w:C(polviews)[T.7]</th>\n",
       "      <td>-0.186184</td>\n",
       "      <td>0.038706</td>\n",
       "      <td>1.507202e-06</td>\n",
       "      <td>9.043211e-06</td>\n",
       "    </tr>\n",
       "  </tbody>\n",
       "</table>\n",
       "</div>"
      ],
      "text/plain": [
       "                    Estimate  Std.Err.  unadj_p_value   adj_p_value\n",
       "w:C(polviews)[T.2] -0.024242  0.027337   3.751982e-01  1.000000e+00\n",
       "w:C(polviews)[T.3] -0.059623  0.027357   2.929996e-02  1.757997e-01\n",
       "w:C(polviews)[T.4] -0.134614  0.025340   1.082607e-07  6.495642e-07\n",
       "w:C(polviews)[T.5] -0.164915  0.027135   1.220112e-09  7.320672e-09\n",
       "w:C(polviews)[T.6] -0.180079  0.027514   5.952137e-11  3.571282e-10\n",
       "w:C(polviews)[T.7] -0.186184  0.038706   1.507202e-06  9.043211e-06"
      ]
     },
     "execution_count": 4,
     "metadata": {},
     "output_type": "execute_result"
    }
   ],
   "source": [
    "# Only valid in randomized setting.\n",
    "\n",
    "# Example: these groups must be defined prior to collecting the data.\n",
    "group = 'polviews'\n",
    "\n",
    "# Linear regression.\n",
    "fmla = 'y ~ w*C(polviews)'\n",
    "ols = smf.ols(fmla, data=data).fit(cov_type='HC2')\n",
    "\n",
    "# Retrieve the interaction coefficients\n",
    "ols_1 = ols.summary2().tables[1].reset_index()\n",
    "interact = ols_1.loc[ols_1[\"index\"].str.contains(\"w:\")]\n",
    "\n",
    "hypothesis_1 = []\n",
    "for i in list(interact['index']):\n",
    "    hypothesis_1.append(i+str('=0'))\n",
    "hypotheses = hypothesis_1\n",
    "t_test = ols.t_test(hypotheses)\n",
    "# print(t_test.summary(xname=list(interact['index'])))\n",
    "\n",
    "# Retrieve unadjusted p-values and \n",
    "unadj_p_value = list(interact[\"P>|z|\"])\n",
    "p_adjusted = list(multipletests(unadj_p_value, alpha=0.05, method='bonferroni')[1])\n",
    "\n",
    "pd.DataFrame(zip(interact[\"Coef.\"], interact[\"Std.Err.\"], unadj_p_value, p_adjusted),\n",
    "               columns =['Estimate', 'Std.Err.', 'unadj_p_value', 'adj_p_value'],\n",
    "            index = list(interact[\"index\"]))"
   ]
  },
  {
   "cell_type": "code",
   "execution_count": 5,
   "id": "30fe6dff",
   "metadata": {},
   "outputs": [],
   "source": [
    "# Define a function which turn a list or vector-like object into a proper two\n",
    "# dimensional column vector\n",
    "\n",
    "def cvec(a):\n",
    "    \"\"\" Turn a list or vector-like object into a proper column vector\n",
    "    Input\n",
    "    a: List or vector-like object, has to be a potential input for np.array()\n",
    "    Output\n",
    "    vec: two dimensional NumPy array, with the first dimension weakly greater\n",
    "         than the second (resulting in a column vector for a vector-like input)\n",
    "    \"\"\"\n",
    "    # Conver input into a two dimensional NumPy array\n",
    "    vec = np.array(a, ndmin=2)\n",
    "\n",
    "    # Check whether the second dimension is strictly greater than the first\n",
    "    # (remembering Python's zero indexing)\n",
    "    if vec.shape[0] < vec.shape[1]:\n",
    "        # If so, transpose the input vector\n",
    "        vec = vec.T\n",
    "\n",
    "    # Return the column vector\n",
    "    return vec\n"
   ]
  },
  {
   "cell_type": "code",
   "execution_count": 6,
   "id": "6642786d",
   "metadata": {},
   "outputs": [],
   "source": [
    "def get_cov(X, e, add_intercept=True, homoskedastic=False):\n",
    "    \"\"\" Calculates OLS variance estimator based on X and residuals\n",
    "    Inputs\n",
    "    X: n by k matrix, RHS variables\n",
    "    e: n by 1 vector or vector-like, residuals from an OLS regression\n",
    "    add_intercept: Boolean, if True, adds an intercept as the first column of X\n",
    "                   (and increases k by one)\n",
    "    Outputs\n",
    "    V_hat: k by k NumPy array, estimated covariance matrix\n",
    "    \"\"\"\n",
    "    # Get the number of observations n and parameters k\n",
    "    n, k = X.shape\n",
    "\n",
    "    # Check whether an intercept needs to be added\n",
    "    if add_intercept:\n",
    "        # If so, add the intercept\n",
    "        X = np.concatenate([np.ones(shape=(n,1)), X], axis=1)\n",
    "\n",
    "        # Don't forget to increase k\n",
    "        k = k + 1\n",
    "\n",
    "    # Make sure the residuals are a proper column vector\n",
    "    e = cvec(e)\n",
    "\n",
    "    # Calculate X'X\n",
    "    XX = X.T @ X\n",
    "\n",
    "    # Calculate its inverse\n",
    "    XXinv = linalg.inv(XX)\n",
    "\n",
    "    # Check whether to use homoskedastic errors\n",
    "    if homoskedastic:\n",
    "        # If so, calculate the homoskedastic variance estimator\n",
    "        V_hat = (1 / (n-k)) * XXinv * (e.T @ e)\n",
    "    else:\n",
    "        # Otherwise, calculate an intermediate object\n",
    "        S = (e @ np.ones(shape=(1,k))) * X\n",
    "\n",
    "        # Then, get the HC0 sandwich estimator\n",
    "        V_hat = (n / (n-k)) * XXinv @ (S.transpose() @ S) @ XXinv\n",
    "\n",
    "    # Return the result\n",
    "    return V_hat"
   ]
  },
  {
   "cell_type": "code",
   "execution_count": 7,
   "id": "8cd6f865",
   "metadata": {},
   "outputs": [],
   "source": [
    "# Auxiliary function to computes adjusted p-values \n",
    "# following the Romano-Wolf method.\n",
    "# For a reference, see http://ftp.iza.org/dp12845.pdf page 8\n",
    "#  t.orig: vector of t-statistics from original model\n",
    "#  t.boot: matrix of t-statistics from bootstrapped models\n",
    "\n",
    "\n",
    "def romano_wolf_correction(t_orig, t_boot):\n",
    "    abs_t_orig = np.absolute(t_orig)\n",
    "    abs_t_boot = np.absolute(t_boot)\n",
    "    abs_t_sorted = sorted(abs_t_orig, key = float, reverse=True)\n",
    "\n",
    "    max_order = (-np.array(abs_t_orig)).argsort()\n",
    "    rev_order = np.argsort(max_order)\n",
    "\n",
    "    M = t_boot.shape[0]\n",
    "    S = t_boot.shape[1]\n",
    "\n",
    "    p_adj = list(np.repeat(0, S))\n",
    "    p_adj[0] = np.mean(pd.DataFrame(abs_t_boot).apply(np.max, axis=1) > abs_t_sorted[0])\n",
    "\n",
    "    for s in range(1,S):\n",
    "        cur_index = max_order[s:S]\n",
    "        p_init = np.mean(\n",
    "            pd.DataFrame(abs_t_boot).T.iloc[cur_index].T.apply(np.max, axis=1) > abs_t_sorted[s])\n",
    "        p_adj[s] = np.max(p_init, p_adj[s])\n",
    "\n",
    "    aux = []\n",
    "    for i in rev_order:\n",
    "        aux.append(p_adj[i])\n",
    "\n",
    "    p_adj = aux\n",
    "    \n",
    "    return(p_adj)"
   ]
  },
  {
   "cell_type": "code",
   "execution_count": 8,
   "id": "82e97b49",
   "metadata": {},
   "outputs": [],
   "source": [
    "# Computes adjusted p-values for linear regression (lm) models.\n",
    "#    model: object of lm class (i.e., a linear reg model)\n",
    "#    indices: vector of integers for the coefficients that will be tested\n",
    "#    cov.type: type of standard error (to be passed to sandwich::vcovHC)\n",
    "#    num.boot: number of null bootstrap samples. Increase to stabilize across runs.\n",
    "# Note: results are probabilitistic and may change slightly at every run. \n",
    "#\n",
    "# Adapted from the p_adjust from from the hdm package, written by Philipp Bach.\n",
    "# https://github.com/PhilippBach/hdm_prev/blob/master/R/p_adjust.R\n",
    "\n",
    "def summary_rw_lm(model, indices='', cov_type=\"HC2\", num_boot=10000):\n",
    "    SyncRNG(seed = 123456)  \n",
    "\n",
    "    # OLS without correction\n",
    "\n",
    "    # Grab the original t values.\n",
    "    ols = smf.ols(fmla, data=data).fit()\n",
    "    ols = ols.summary2().tables[1].reset_index()\n",
    "    summary = ols[ols['index'].isin(list(indices[\"index\"]))]\n",
    "    t_orig = summary['t']\n",
    "\n",
    "    # Null resampling.\n",
    "    # This is a trick to speed up bootstrapping linear models.\n",
    "    # Here, we don't really need to re-fit linear regressions, which would be a bit slow.\n",
    "    # We know that betahat ~ N(beta, Sigma), and we have an estimate Sigmahat.\n",
    "    # So we can approximate \"null t-values\" by\n",
    "    #  - Draw beta.boot ~ N(0, Sigma-hat) --- note the 0 here, this is what makes it a *null* t-value.\n",
    "    #  - Compute t.boot = beta.boot / sqrt(diag(Sigma.hat))\n",
    "\n",
    "    ols = smf.ols(fmla, data=data).fit(cov_type = cov_type)\n",
    "    ols_exog = smf.ols(fmla, data=data).exog\n",
    "    ols_res = smf.ols(fmla, data=data).fit().resid\n",
    "    Sigma_hat = get_cov(ols_exog, ols_res, add_intercept=False)\n",
    "\n",
    "    se_orig = pd.Series(np.sqrt(Sigma_hat.diagonal()))\n",
    "\n",
    "    num_coef = len(se_orig)\n",
    "\n",
    "    beta_boot = pd.DataFrame(\n",
    "                np.random.multivariate_normal(\n",
    "                mean=np.repeat(0, num_coef), cov=Sigma_hat, size=num_boot))\n",
    "\n",
    "    t_boot = np.array(beta_boot.apply(lambda row: row / se_orig, axis=1))\n",
    "    t_boot = t_boot.T[(len(ols_1)-len(t_orig)):len(ols_1)].T\n",
    "\n",
    "    p_adj = romano_wolf_correction(t_orig, t_boot)\n",
    "    result = summary[['index','Coef.','Std.Err.','P>|t|']]\n",
    "    result.rename(columns={'P>|t|': 'Orig.p-value'}, inplace=True)\n",
    "    result['Adj. p-value'] = p_adj\n",
    "\n",
    "    return(result)"
   ]
  },
  {
   "cell_type": "code",
   "execution_count": 9,
   "id": "d12ea81d",
   "metadata": {},
   "outputs": [
    {
     "name": "stderr",
     "output_type": "stream",
     "text": [
      "C:\\Users\\Roberto\\AppData\\Local\\Temp\\ipykernel_5896\\909325009.py:48: SettingWithCopyWarning: \n",
      "A value is trying to be set on a copy of a slice from a DataFrame\n",
      "\n",
      "See the caveats in the documentation: https://pandas.pydata.org/pandas-docs/stable/user_guide/indexing.html#returning-a-view-versus-a-copy\n",
      "  result.rename(columns={'P>|t|': 'Orig.p-value'}, inplace=True)\n",
      "C:\\Users\\Roberto\\AppData\\Local\\Temp\\ipykernel_5896\\909325009.py:49: SettingWithCopyWarning: \n",
      "A value is trying to be set on a copy of a slice from a DataFrame.\n",
      "Try using .loc[row_indexer,col_indexer] = value instead\n",
      "\n",
      "See the caveats in the documentation: https://pandas.pydata.org/pandas-docs/stable/user_guide/indexing.html#returning-a-view-versus-a-copy\n",
      "  result['Adj. p-value'] = p_adj\n"
     ]
    },
    {
     "data": {
      "text/html": [
       "<div>\n",
       "<style scoped>\n",
       "    .dataframe tbody tr th:only-of-type {\n",
       "        vertical-align: middle;\n",
       "    }\n",
       "\n",
       "    .dataframe tbody tr th {\n",
       "        vertical-align: top;\n",
       "    }\n",
       "\n",
       "    .dataframe thead th {\n",
       "        text-align: right;\n",
       "    }\n",
       "</style>\n",
       "<table border=\"1\" class=\"dataframe\">\n",
       "  <thead>\n",
       "    <tr style=\"text-align: right;\">\n",
       "      <th></th>\n",
       "      <th>index</th>\n",
       "      <th>Coef.</th>\n",
       "      <th>Std.Err.</th>\n",
       "      <th>Orig.p-value</th>\n",
       "      <th>Adj. p-value</th>\n",
       "    </tr>\n",
       "  </thead>\n",
       "  <tbody>\n",
       "    <tr>\n",
       "      <th>8</th>\n",
       "      <td>w:C(polviews)[T.2]</td>\n",
       "      <td>-0.024242</td>\n",
       "      <td>0.030348</td>\n",
       "      <td>4.244098e-01</td>\n",
       "      <td>0.4267</td>\n",
       "    </tr>\n",
       "    <tr>\n",
       "      <th>9</th>\n",
       "      <td>w:C(polviews)[T.3]</td>\n",
       "      <td>-0.059623</td>\n",
       "      <td>0.030150</td>\n",
       "      <td>4.798896e-02</td>\n",
       "      <td>0.0721</td>\n",
       "    </tr>\n",
       "    <tr>\n",
       "      <th>10</th>\n",
       "      <td>w:C(polviews)[T.4]</td>\n",
       "      <td>-0.134614</td>\n",
       "      <td>0.028228</td>\n",
       "      <td>1.862258e-06</td>\n",
       "      <td>0.0000</td>\n",
       "    </tr>\n",
       "    <tr>\n",
       "      <th>11</th>\n",
       "      <td>w:C(polviews)[T.5]</td>\n",
       "      <td>-0.164915</td>\n",
       "      <td>0.029575</td>\n",
       "      <td>2.481093e-08</td>\n",
       "      <td>0.0000</td>\n",
       "    </tr>\n",
       "    <tr>\n",
       "      <th>12</th>\n",
       "      <td>w:C(polviews)[T.6]</td>\n",
       "      <td>-0.180079</td>\n",
       "      <td>0.029660</td>\n",
       "      <td>1.284150e-09</td>\n",
       "      <td>0.0000</td>\n",
       "    </tr>\n",
       "    <tr>\n",
       "      <th>13</th>\n",
       "      <td>w:C(polviews)[T.7]</td>\n",
       "      <td>-0.186184</td>\n",
       "      <td>0.037904</td>\n",
       "      <td>9.063658e-07</td>\n",
       "      <td>0.0000</td>\n",
       "    </tr>\n",
       "  </tbody>\n",
       "</table>\n",
       "</div>"
      ],
      "text/plain": [
       "                 index     Coef.  Std.Err.  Orig.p-value  Adj. p-value\n",
       "8   w:C(polviews)[T.2] -0.024242  0.030348  4.244098e-01        0.4267\n",
       "9   w:C(polviews)[T.3] -0.059623  0.030150  4.798896e-02        0.0721\n",
       "10  w:C(polviews)[T.4] -0.134614  0.028228  1.862258e-06        0.0000\n",
       "11  w:C(polviews)[T.5] -0.164915  0.029575  2.481093e-08        0.0000\n",
       "12  w:C(polviews)[T.6] -0.180079  0.029660  1.284150e-09        0.0000\n",
       "13  w:C(polviews)[T.7] -0.186184  0.037904  9.063658e-07        0.0000"
      ]
     },
     "execution_count": 9,
     "metadata": {},
     "output_type": "execute_result"
    }
   ],
   "source": [
    "# This linear regression is only valid in a randomized setting.\n",
    "fmla = 'y ~ w*C(polviews)'\n",
    "ols = smf.ols(fmla, data=data).fit()\n",
    "ols = ols.summary2().tables[1].reset_index()\n",
    "interact = ols.loc[ols_1[\"index\"].str.contains(\"w:\")]\n",
    "\n",
    "# Applying the romano-wolf correction.\n",
    "summary_rw_lm(ols, indices=interact)"
   ]
  },
  {
   "cell_type": "markdown",
   "id": "890520f4",
   "metadata": {},
   "source": [
    "<font size=1>\n",
    "Compare the adjusted p-values under Romano-Wolf with those obtained via Bonferroni above.\n",
    "</font>\n",
    "\n",
    "The Bonferroni and Romano-Wolf methods control the **familywise error rate (FWER)**, which is the (asymptotic) probability of rejecting even one true null hypothesis. In other words, for a significance level $\\alpha$, they guarantee that with probability $1 - \\alpha$ we will make zero false discoveries. However, when the number of hypotheses being tested is very large, this criterion may be so stringent that it prevents us from being able to detect real effects. Instead, there exist alternative procedures that control the (asymptotic) **false discovery rate (FDR)**, defined as the expected proportion of true null hypotheses rejected among all hypotheses rejected. One such procedure is the Benjamini-Hochberg procedure, which is available in base R via `p.adjust(..., method=\"BH\")`. For what remains we'll stick with FWER control, but keep in mind that FDR control can also useful in exploratory analyses or settings in which there's a very large number of hypotheses under consideration.\n",
    "\n",
    "As in the previous chapter, when working with observational data under unconfoundedness and overlap, one can use AIPW scores  $\\hat{\\Gamma}_i$ in place of the raw outcomes  $Y_i$. In the next snippet, we construct AIPW scores using the `causal_forest` function from the `grf` package."
   ]
  },
  {
   "cell_type": "markdown",
   "id": "bda9acb7",
   "metadata": {},
   "source": [
    "## Data-driven hypotheses\n",
    "\n",
    "Pre-specifying hypotheses prior to looking at the data is in general good practice to avoid \"p-hacking\" (e.g., slicing the data into different subgroups until a significant result is found). However, valid tests can also be attained if by **sample splitting**: we can use a subset of the sample to find promising subgroups, then test hypotheses about these subgroups in the remaining sample. This kind of sample splitting for hypothesis testing is called **honesty**.\n",
    "\n",
    "### Via causal trees\n",
    "\n",
    "**Causal trees** [(Athey and Imbens)(PNAS, 2016)](https://www.pnas.org/content/pnas/113/27/7353.full.pdf) are an intuitive algorithm that is available in the randomized setting to discover subgroups with different treatment effects.\n",
    "\n",
    "At a high level, the idea is to divide the sample into three subsets (not necessarily of equal size). The `splitting` subset is used to fit a decision tree whose objective is modified to maximize heterogeneity in treatment effect estimates across leaves. The `estimation` subset is then used to produce a valid estimate of the treatment effect at each leaf of the fitted tree. Finally, a `test` subset can be used to validate the tree estimates.\n",
    "\n",
    "The next snippet uses `honest.causalTree` function from the [`causalTree`](https://github.com/susanathey/causalTree) package. For more details, see the [causalTree documentation](https://github.com/susanathey/causalTree/blob/master/briefintro.pdf)."
   ]
  },
  {
   "cell_type": "code",
   "execution_count": 15,
   "id": "42ec2b88",
   "metadata": {},
   "outputs": [],
   "source": [
    "X = data[['age','polviews', 'income','educ','marital','sex']]\n",
    "y = data['y']\n",
    "treatment = data['w']"
   ]
  },
  {
   "cell_type": "code",
   "execution_count": 16,
   "id": "e56fbe32",
   "metadata": {},
   "outputs": [
    {
     "name": "stderr",
     "output_type": "stream",
     "text": [
      "C:\\Users\\Roberto\\anaconda3\\lib\\site-packages\\numpy\\core\\fromnumeric.py:3723: RuntimeWarning: Degrees of freedom <= 0 for slice\n",
      "C:\\Users\\Roberto\\anaconda3\\lib\\site-packages\\numpy\\core\\_methods.py:254: RuntimeWarning: invalid value encountered in double_scalars\n"
     ]
    }
   ],
   "source": [
    "columns = X.columns # get varaible's names in a list\n",
    "\n",
    "# From DataFrame to array \n",
    "\n",
    "X = X.values\n",
    "y = y.values\n",
    "treatment = treatment.values\n",
    "\n",
    "# CL-honest\n",
    "\n",
    "cthl = CausalTree(honest=True, min_size=1, split_size=0.33)\n",
    "cthl.fit(X, y, treatment)\n",
    "cthl.prune()\n",
    "\n",
    "# plot\n",
    "cthl.plot_tree(features=columns, filename=\"bin_tree_honest_1\", show_effect=True, alpha = 0)"
   ]
  },
  {
   "cell_type": "code",
   "execution_count": 17,
   "id": "8efaa3ec",
   "metadata": {},
   "outputs": [],
   "source": [
    "# get train and test sample\n",
    "\n",
    "train_x, val_x, train_y, val_y, train_t, val_t = train_test_split(X, y, treatment, random_state=724, shuffle=True,\n",
    "                                                                          test_size=0.33)\n",
    "# get honest/estimation portion\n",
    "train_x, est_x, train_y, est_y, train_t, est_t = train_test_split(train_x, train_y, train_t, shuffle=True,\n",
    "                                                                          random_state=724, test_size=0.5)"
   ]
  },
  {
   "cell_type": "code",
   "execution_count": 18,
   "id": "79efb661",
   "metadata": {},
   "outputs": [],
   "source": [
    "cthl_predict = cthl.predict(est_x)  # Predict tau \n",
    "num_leaves = len(np.unique(cthl_predict)) # number of leaves \n",
    "\n",
    "labels = [i for i in range(1,len(np.unique(cthl_predict)) + 1 ) ] # label by each leaf \n",
    "\n",
    "# Prediction grouped by each leaf\n",
    "\n",
    "predict = pd.DataFrame({\"predict\": cthl_predict})\n",
    "predict['leaves'] = pd.Categorical(predict.predict)\n",
    "predict['leaves'] = predict['leaves'].cat.rename_categories(labels)"
   ]
  },
  {
   "cell_type": "code",
   "execution_count": 19,
   "id": "3d428f3d",
   "metadata": {},
   "outputs": [
    {
     "data": {
      "text/html": [
       "<div>\n",
       "<style scoped>\n",
       "    .dataframe tbody tr th:only-of-type {\n",
       "        vertical-align: middle;\n",
       "    }\n",
       "\n",
       "    .dataframe tbody tr th {\n",
       "        vertical-align: top;\n",
       "    }\n",
       "\n",
       "    .dataframe thead th {\n",
       "        text-align: right;\n",
       "    }\n",
       "</style>\n",
       "<table border=\"1\" class=\"dataframe\">\n",
       "  <thead>\n",
       "    <tr style=\"text-align: right;\">\n",
       "      <th></th>\n",
       "      <th>predict</th>\n",
       "      <th>leaves</th>\n",
       "    </tr>\n",
       "  </thead>\n",
       "  <tbody>\n",
       "    <tr>\n",
       "      <th>0</th>\n",
       "      <td>-0.369901</td>\n",
       "      <td>7</td>\n",
       "    </tr>\n",
       "    <tr>\n",
       "      <th>1</th>\n",
       "      <td>-0.369901</td>\n",
       "      <td>7</td>\n",
       "    </tr>\n",
       "    <tr>\n",
       "      <th>2</th>\n",
       "      <td>-0.369901</td>\n",
       "      <td>7</td>\n",
       "    </tr>\n",
       "    <tr>\n",
       "      <th>3</th>\n",
       "      <td>-0.369901</td>\n",
       "      <td>7</td>\n",
       "    </tr>\n",
       "    <tr>\n",
       "      <th>4</th>\n",
       "      <td>-0.369901</td>\n",
       "      <td>7</td>\n",
       "    </tr>\n",
       "    <tr>\n",
       "      <th>...</th>\n",
       "      <td>...</td>\n",
       "      <td>...</td>\n",
       "    </tr>\n",
       "    <tr>\n",
       "      <th>9594</th>\n",
       "      <td>-0.406130</td>\n",
       "      <td>5</td>\n",
       "    </tr>\n",
       "    <tr>\n",
       "      <th>9595</th>\n",
       "      <td>-0.433803</td>\n",
       "      <td>3</td>\n",
       "    </tr>\n",
       "    <tr>\n",
       "      <th>9596</th>\n",
       "      <td>-0.250101</td>\n",
       "      <td>10</td>\n",
       "    </tr>\n",
       "    <tr>\n",
       "      <th>9597</th>\n",
       "      <td>-0.369901</td>\n",
       "      <td>7</td>\n",
       "    </tr>\n",
       "    <tr>\n",
       "      <th>9598</th>\n",
       "      <td>-0.369901</td>\n",
       "      <td>7</td>\n",
       "    </tr>\n",
       "  </tbody>\n",
       "</table>\n",
       "<p>9599 rows × 2 columns</p>\n",
       "</div>"
      ],
      "text/plain": [
       "       predict leaves\n",
       "0    -0.369901      7\n",
       "1    -0.369901      7\n",
       "2    -0.369901      7\n",
       "3    -0.369901      7\n",
       "4    -0.369901      7\n",
       "...        ...    ...\n",
       "9594 -0.406130      5\n",
       "9595 -0.433803      3\n",
       "9596 -0.250101     10\n",
       "9597 -0.369901      7\n",
       "9598 -0.369901      7\n",
       "\n",
       "[9599 rows x 2 columns]"
      ]
     },
     "execution_count": 19,
     "metadata": {},
     "output_type": "execute_result"
    }
   ],
   "source": [
    "predict"
   ]
  },
  {
   "cell_type": "markdown",
   "id": "c73c2b6e",
   "metadata": {},
   "source": [
    "#### Via grf - Causal Forest "
   ]
  },
  {
   "cell_type": "code",
   "execution_count": null,
   "id": "6291a13a",
   "metadata": {},
   "outputs": [],
   "source": [
    "#!pip install econml"
   ]
  },
  {
   "cell_type": "code",
   "execution_count": 20,
   "id": "87290606",
   "metadata": {},
   "outputs": [],
   "source": [
    "import econml\n",
    "# Main imports\n",
    "from econml.orf import DMLOrthoForest, DROrthoForest\n",
    "from econml.dml import CausalForestDML\n",
    "from econml.sklearn_extensions.linear_model import WeightedLassoCVWrapper, WeightedLasso, WeightedLassoCV\n",
    "from sklearn.linear_model import MultiTaskLassoCV\n",
    "# Helper imports\n",
    "import numpy as np\n",
    "from itertools import product\n",
    "from sklearn.linear_model import Lasso, LassoCV, LogisticRegression, LogisticRegressionCV\n",
    "import matplotlib.pyplot as plt\n",
    "from sklearn.tree import DecisionTreeRegressor\n",
    "from sklearn.ensemble import RandomForestRegressor\n",
    "from econml.grf import RegressionForest\n",
    "%matplotlib inline\n",
    "import patsy\n",
    "import seaborn as sns"
   ]
  },
  {
   "cell_type": "code",
   "execution_count": 21,
   "id": "32c0fbf8",
   "metadata": {},
   "outputs": [
    {
     "data": {
      "text/plain": [
       "<econml.dml.causal_forest.CausalForestDML at 0x1fb09195490>"
      ]
     },
     "execution_count": 21,
     "metadata": {},
     "output_type": "execute_result"
    }
   ],
   "source": [
    "# Preparing data to fit a causal forest\n",
    "\n",
    "fmla = '0+age+polviews+income+educ+marital+sex'\n",
    "desc = patsy.ModelDesc.from_formula(fmla)\n",
    "desc.describe()\n",
    "matrix = patsy.dmatrix(fmla, data, return_type = \"dataframe\")\n",
    "\n",
    "T = data.loc[ : ,\"w\"]\n",
    "Y = data.loc[ : ,\"y\"]\n",
    "X = matrix\n",
    "W = None \n",
    "\n",
    "# Estimate a causal forest.\n",
    "est2 = CausalForestDML(model_t=RegressionForest(),\n",
    "                       model_y=RegressionForest(),\n",
    "                       n_estimators=200, min_samples_leaf=5,\n",
    "                       max_depth=50,\n",
    "                       verbose=0, random_state=123)\n",
    "\n",
    "est2.tune(Y, T, X=X, W=W)\n",
    "est2.fit(Y, T, X=X, W=W)"
   ]
  },
  {
   "cell_type": "code",
   "execution_count": 22,
   "id": "3fd3692f",
   "metadata": {},
   "outputs": [],
   "source": [
    "# Get residuals  and propensity \n",
    "residuals = est2.fit(Y, T, X=X, W=W, cache_values=True).residuals_\n",
    "T_res = residuals[1]\n",
    "e_hat = T - T_res \n",
    "\n",
    "# T = beta_hat*X + e , beta_hat*X = T_hat = T-e"
   ]
  },
  {
   "cell_type": "code",
   "execution_count": 23,
   "id": "20108136",
   "metadata": {},
   "outputs": [],
   "source": [
    "Prop = pd.DataFrame({\"p_score\":e_hat, \"Treatment\":T})"
   ]
  },
  {
   "cell_type": "code",
   "execution_count": 24,
   "id": "137440c5",
   "metadata": {},
   "outputs": [
    {
     "data": {
      "text/plain": [
       "<AxesSubplot:xlabel='p_score', ylabel='Count'>"
      ]
     },
     "execution_count": 24,
     "metadata": {},
     "output_type": "execute_result"
    },
    {
     "data": {
      "image/png": "[encoded data removed]",
      "text/plain": [
       "<Figure size 432x288 with 1 Axes>"
      ]
     },
     "metadata": {
      "needs_background": "light"
     },
     "output_type": "display_data"
    }
   ],
   "source": [
    "# Propensity score \n",
    "# Do not use this for assessing heterogeneity. See text above.\n",
    "sns.histplot(data=Prop, x=\"p_score\", hue=\"Treatment\", bins=40, alpha = 0.4)"
   ]
  },
  {
   "cell_type": "markdown",
   "id": "3d82e761",
   "metadata": {},
   "source": [
    "Having fit a non-parametric method such as a causal forest, a researcher may (incorrectly) start by looking at the distribution of its predictions of the treatment effect. One might be tempted to think: \"if the histogram is concentrated at a point, then there is no heterogeneity; if the histogram is spread out, then our estimator has found interesting heterogeneity.\" However, this may be false."
   ]
  },
  {
   "cell_type": "code",
   "execution_count": 25,
   "id": "9ed4739c",
   "metadata": {},
   "outputs": [],
   "source": [
    "tau_hat = est2.effect(X=X) # tau(X) estimates"
   ]
  },
  {
   "cell_type": "code",
   "execution_count": 27,
   "id": "dbb9a8c4",
   "metadata": {},
   "outputs": [
    {
     "data": {
      "text/plain": [
       "Text(0.5, 1.0, 'CATE estimates')"
      ]
     },
     "execution_count": 27,
     "metadata": {},
     "output_type": "execute_result"
    },
    {
     "data": {
      "image/png": "[encoded data removed]",
      "text/plain": [
       "<Figure size 360x360 with 1 Axes>"
      ]
     },
     "metadata": {
      "needs_background": "light"
     },
     "output_type": "display_data"
    }
   ],
   "source": [
    "# Do not use this for assessing heterogeneity. See text above.\n",
    "sns.displot( tau_hat, stat=\"density\", bins = 10)\n",
    "plt.title(\"CATE estimates\")"
   ]
  },
  {
   "cell_type": "markdown",
   "id": "be871910",
   "metadata": {},
   "source": [
    "If the histogram is concentrated at a point, we may simply be underpowered: our method was not able to detect any heterogeneity, but maybe it would detect it if we had more data. If the histogram is spread out, we may be overfitting: our model is producing very noisy estimates $\\widehat{\\tau}(x)$, but in fact the true  $\\tau(x)$ can be much smoother as a function of $x$.\n",
    "\n",
    "The `grf` package also produces a measure of variable importance that indicates how often a variable was used in a tree split. Again, much like the histogram above, this can be a rough diagnostic, but it should not be interpreted as indicating that, for example, variable with low importance is not related to heterogeneity. The reasoning is the same as the one presented in the causal trees section: if two covariates are highly correlated, the trees might split on one covariate but not the other, even though both (or maybe neither) are relevant in the true data-generating process."
   ]
  },
  {
   "cell_type": "code",
   "execution_count": 28,
   "id": "c1e77368",
   "metadata": {},
   "outputs": [
    {
     "data": {
      "text/plain": [
       "array([0.05183671, 0.49923342, 0.37411192, 0.0567607 , 0.01369339,\n",
       "       0.00436387])"
      ]
     },
     "execution_count": 28,
     "metadata": {},
     "output_type": "execute_result"
    }
   ],
   "source": [
    "est2.feature_importances()"
   ]
  },
  {
   "cell_type": "code",
   "execution_count": 29,
   "id": "146daceb",
   "metadata": {},
   "outputs": [],
   "source": [
    "importance = pd.DataFrame({\"covariaties\" : list(X.columns), \"values\" : est2.feature_importances()})"
   ]
  },
  {
   "cell_type": "code",
   "execution_count": 30,
   "id": "69fea211",
   "metadata": {},
   "outputs": [
    {
     "data": {
      "text/html": [
       "<div>\n",
       "<style scoped>\n",
       "    .dataframe tbody tr th:only-of-type {\n",
       "        vertical-align: middle;\n",
       "    }\n",
       "\n",
       "    .dataframe tbody tr th {\n",
       "        vertical-align: top;\n",
       "    }\n",
       "\n",
       "    .dataframe thead th {\n",
       "        text-align: right;\n",
       "    }\n",
       "</style>\n",
       "<table border=\"1\" class=\"dataframe\">\n",
       "  <thead>\n",
       "    <tr style=\"text-align: right;\">\n",
       "      <th></th>\n",
       "      <th>covariaties</th>\n",
       "      <th>values</th>\n",
       "    </tr>\n",
       "  </thead>\n",
       "  <tbody>\n",
       "    <tr>\n",
       "      <th>1</th>\n",
       "      <td>polviews</td>\n",
       "      <td>0.499233</td>\n",
       "    </tr>\n",
       "    <tr>\n",
       "      <th>2</th>\n",
       "      <td>income</td>\n",
       "      <td>0.374112</td>\n",
       "    </tr>\n",
       "    <tr>\n",
       "      <th>3</th>\n",
       "      <td>educ</td>\n",
       "      <td>0.056761</td>\n",
       "    </tr>\n",
       "    <tr>\n",
       "      <th>0</th>\n",
       "      <td>age</td>\n",
       "      <td>0.051837</td>\n",
       "    </tr>\n",
       "    <tr>\n",
       "      <th>4</th>\n",
       "      <td>marital</td>\n",
       "      <td>0.013693</td>\n",
       "    </tr>\n",
       "    <tr>\n",
       "      <th>5</th>\n",
       "      <td>sex</td>\n",
       "      <td>0.004364</td>\n",
       "    </tr>\n",
       "  </tbody>\n",
       "</table>\n",
       "</div>"
      ],
      "text/plain": [
       "  covariaties    values\n",
       "1    polviews  0.499233\n",
       "2      income  0.374112\n",
       "3        educ  0.056761\n",
       "0         age  0.051837\n",
       "4     marital  0.013693\n",
       "5         sex  0.004364"
      ]
     },
     "execution_count": 30,
     "metadata": {},
     "output_type": "execute_result"
    }
   ],
   "source": [
    "importance.sort_values('values', ascending = False)"
   ]
  },
  {
   "cell_type": "markdown",
   "id": "e0ea45d1",
   "metadata": {},
   "source": [
    "#### Data-driven subgroups\n",
    "\n",
    "Just as with causal trees, we can use causal forests to divide our observations into subgroups. In place of leaves, we'll rank observation into (say) quintiles according to their estimated CATE prediction; see, e.g., [Chernozhukov, Demirer, Duflo, Fernández-Val (2020)](https://arxiv.org/abs/1712.04802) for similar ideas.\n",
    "\n",
    "There's a subtle but important point that needs to be addressed here. As we have mentioned before, when predicting the conditional average treatment effect $\\tau(X_i)$ for observation $i$ we should in general avoid using a model that was fitted using observation $i$. This sort of sample splitting (which we called **honesty** above) is one of the required ingredients to get unbiased estimates of the CATE using the methods described here. However, when ranking estimates of two observations $i$ and $j$, we need something a little stronger: we must ensure that the model was not fit using _either_ $i$ _or_ $j$'s data. \n",
    "\n",
    "One way of overcoming this obstacle is simple. First, divide the data into $K$ folds (subsets). Then, cycle through the folds, fitting a CATE model on $K-1$ folds. Next, for each held-out fold, _separately_ rank the unseen observations into $Q$ groups based on their prediction  (i.e., if $Q=5$, then we rank observations by estimated CATE into \"top quintile\", \"second quintile\", and so on). After concatenating the independent rankings together, we can study the differences in observations in each rank-group. \n",
    "\n",
    "[This gist](https://gist.github.com/halflearned/bea4e5137c0c81fd18a75f682da466c8) computes the above for `grf`, and it should not be hard to modify it so as to replace forests by any other non-parametric method. However, for `grf` specifically, there's a small trick that allows us to obtain a valid ranking: we can pass a vector of fold indices to the argument `clusters` and rank observations within each fold. This works because estimates for each fold (\"cluster\")   trees are computed using trees that were not fit using observations from that fold. Here's how to do it. \n"
   ]
  },
  {
   "cell_type": "code",
   "execution_count": 32,
   "id": "fdb4e387",
   "metadata": {},
   "outputs": [],
   "source": [
    "def cluster_causal_forest(Y,T, X, W,  cluster):        \n",
    "        \n",
    "        base = pd.concat([Y,T], axis = 1)\n",
    "        \n",
    "        for i in range(cluster):\n",
    "        \n",
    "            index=range(X.shape[0]) \n",
    "            a = np.array_split(np.array(index),cluster)[i]  ## split index\n",
    "            \n",
    "            Y = base.drop(base.iloc[list(a),:].index).iloc[:,0]\n",
    "            T = base.drop(base.iloc[list(a),:].index).iloc[:,1]\n",
    "            XX = X.drop(X.iloc[list(a),:].index)\n",
    "            causal = CausalForestDML(model_t=RegressionForest(),\n",
    "                       model_y=RegressionForest(),\n",
    "                       n_estimators=200, min_samples_leaf=5,\n",
    "                       max_depth=50,\n",
    "                       verbose=0, random_state=123)\n",
    "            causal.fit(Y, T, X=XX, W=W)\n",
    "            \n",
    "            tau_hat = causal.effect(X=X.iloc[list(a),:]) # tau(X) estimates using validation data\n",
    "            vector = i*np.ones( len(list(a)) ) + 1\n",
    "            globals()[f'data_{i}'] = pd.DataFrame({\"tau_hat\":tau_hat, \"Cluster\":vector})\n",
    "                                                    \n",
    "        \n",
    "       \n",
    "        tau_predict = data_0.copy()\n",
    "\n",
    "        for k in range(1,10):\n",
    "            tau_predict = tau_predict.append(globals()[f'data_{k}'] , ignore_index=True)\n",
    "            \n",
    "        \n",
    "        \n",
    "        return tau_predict"
   ]
  },
  {
   "cell_type": "markdown",
   "id": "f11fa06c-a4c8-44ab-995c-76af21e6175c",
   "metadata": {},
   "source": [
    "The next snippet computes the average treatment effect within each group defined above, i.e.,  $\\mathbf{E}[Y_{i}(0)|G_{i} = g]$. This can done in two ways. First, by computing a simple difference-in-means estimate of the ATE based on observations within each group. This is valid only in randomized settings."
   ]
  },
  {
   "cell_type": "code",
   "execution_count": 33,
   "id": "5f6da6f9",
   "metadata": {},
   "outputs": [
    {
     "name": "stderr",
     "output_type": "stream",
     "text": [
      "The frame.append method is deprecated and will be removed from pandas in a future version. Use pandas.concat instead.\n"
     ]
    }
   ],
   "source": [
    "# Valid randomized data and observational data with unconfoundedness+overlap.\n",
    "# Note: read the comments below carefully. \n",
    "# In randomized settings, do not estimate forest.e and e.hat; use known assignment probs.\n",
    "\n",
    "# Prepare dataset\n",
    "fmla = '0+age+polviews+income+educ+marital+sex'\n",
    "desc = patsy.ModelDesc.from_formula(fmla)\n",
    "matrix = patsy.dmatrix(fmla, data, return_type = \"dataframe\")\n",
    "\n",
    "T = data.loc[ : ,\"w\"]\n",
    "Y = data.loc[ : ,\"y\"]\n",
    "X = matrix\n",
    "W = None \n",
    "\n",
    "\n",
    "# Number of rankings that the predictions will be ranking on \n",
    "# (e.g., 2 for above/below median estimated CATE, 5 for estimated CATE quintiles, etc.)\n",
    "num_rankings = 5  \n",
    "\n",
    "# Prepare for data.splitting\n",
    "# Assign a fold number to each observation.\n",
    "# The argument 'clusters' in the next step will mimick K-fold cross-fitting.\n",
    "num_folds = 10\n",
    "\n",
    "# Estimate a causal forest.\n",
    "\n",
    "tau_hat_cluster = cluster_causal_forest(Y,T, X, W,  cluster = num_folds)\n",
    "\n",
    "data['ranking'] = np.nan\n",
    "\n",
    "for i in range(1,num_folds+1):\n",
    "    split = tau_hat_cluster.Cluster == i\n",
    "    index = tau_hat_cluster[split].index\n",
    "    tau_quantile = np.quantile(tau_hat_cluster[split].iloc[:,0], list(np.arange(0,1.1,0.2)))\n",
    "    labels =[i for i in range(1,6)]\n",
    "    data.loc[index , [\"ranking\"]] = pd.cut(tau_hat_cluster[split][\"tau_hat\"], \n",
    "                                               tau_quantile , right=False, labels=labels)"
   ]
  },
  {
   "cell_type": "code",
   "execution_count": 34,
   "id": "37b11703",
   "metadata": {},
   "outputs": [],
   "source": [
    "# Valid only in randomized settings.\n",
    "# Average difference-in-means within each ranking\n",
    "\n",
    "# Formula y ~ 0 + ranking + ranking:w\n",
    "fmla = 'y ~ 0 + C(ranking) + w:C(ranking)'\n",
    "ols = smf.ols(fmla, data=data).fit(cov_type='HC2')\n",
    "\n",
    "# Retrieve the interaction coefficients\n",
    "ols_1 = ols.summary2().tables[1].reset_index()\n",
    "ols_ate = ols_1.loc[ols_1[\"index\"].str.contains(\"w:\")].iloc[:,1:3]\n",
    "ols_ate['method'] = \"ols\"\n",
    "ols_ate['ranking'] = [f'Q{j}' for j in range(1,6)]\n",
    "order = [2,3,0,1] # setting column's order\n",
    "ols_ate = ols_ate[[ols_ate.columns[i] for i in order]]"
   ]
  },
  {
   "cell_type": "code",
   "execution_count": 35,
   "id": "09c1ad05",
   "metadata": {},
   "outputs": [
    {
     "data": {
      "text/html": [
       "<div>\n",
       "<style scoped>\n",
       "    .dataframe tbody tr th:only-of-type {\n",
       "        vertical-align: middle;\n",
       "    }\n",
       "\n",
       "    .dataframe tbody tr th {\n",
       "        vertical-align: top;\n",
       "    }\n",
       "\n",
       "    .dataframe thead th {\n",
       "        text-align: right;\n",
       "    }\n",
       "</style>\n",
       "<table border=\"1\" class=\"dataframe\">\n",
       "  <thead>\n",
       "    <tr style=\"text-align: right;\">\n",
       "      <th></th>\n",
       "      <th>method</th>\n",
       "      <th>ranking</th>\n",
       "      <th>Estimate</th>\n",
       "      <th>se</th>\n",
       "    </tr>\n",
       "  </thead>\n",
       "  <tbody>\n",
       "    <tr>\n",
       "      <th>5</th>\n",
       "      <td>ols</td>\n",
       "      <td>Q1</td>\n",
       "      <td>-0.435064</td>\n",
       "      <td>0.011338</td>\n",
       "    </tr>\n",
       "    <tr>\n",
       "      <th>6</th>\n",
       "      <td>ols</td>\n",
       "      <td>Q2</td>\n",
       "      <td>-0.397305</td>\n",
       "      <td>0.011151</td>\n",
       "    </tr>\n",
       "    <tr>\n",
       "      <th>7</th>\n",
       "      <td>ols</td>\n",
       "      <td>Q3</td>\n",
       "      <td>-0.361381</td>\n",
       "      <td>0.010971</td>\n",
       "    </tr>\n",
       "    <tr>\n",
       "      <th>8</th>\n",
       "      <td>ols</td>\n",
       "      <td>Q4</td>\n",
       "      <td>-0.320245</td>\n",
       "      <td>0.010623</td>\n",
       "    </tr>\n",
       "    <tr>\n",
       "      <th>9</th>\n",
       "      <td>ols</td>\n",
       "      <td>Q5</td>\n",
       "      <td>-0.223207</td>\n",
       "      <td>0.009822</td>\n",
       "    </tr>\n",
       "  </tbody>\n",
       "</table>\n",
       "</div>"
      ],
      "text/plain": [
       "  method ranking  Estimate        se\n",
       "5    ols      Q1 -0.435064  0.011338\n",
       "6    ols      Q2 -0.397305  0.011151\n",
       "7    ols      Q3 -0.361381  0.010971\n",
       "8    ols      Q4 -0.320245  0.010623\n",
       "9    ols      Q5 -0.223207  0.009822"
      ]
     },
     "execution_count": 35,
     "metadata": {},
     "output_type": "execute_result"
    }
   ],
   "source": [
    "ols_ate.rename({'Coef.': 'Estimate', 'Std.Err.': 'se'}, axis=1, inplace = True) \n",
    "ols_ate"
   ]
  },
  {
   "cell_type": "markdown",
   "id": "8983e088-525a-4f65-adf1-c13bf66943e9",
   "metadata": {},
   "source": [
    "Another option is to average the AIPW scores within each group. This valid for both randomized settings and observational settings with unconfoundedness and overlap. Moreover, AIPW-based estimators should produce estimates with tighter confidence intervals in large samples."
   ]
  },
  {
   "cell_type": "code",
   "execution_count": 36,
   "id": "a43b0cc6",
   "metadata": {
    "scrolled": true
   },
   "outputs": [
    {
     "data": {
      "text/html": [
       "<div>\n",
       "<style scoped>\n",
       "    .dataframe tbody tr th:only-of-type {\n",
       "        vertical-align: middle;\n",
       "    }\n",
       "\n",
       "    .dataframe tbody tr th {\n",
       "        vertical-align: top;\n",
       "    }\n",
       "\n",
       "    .dataframe thead th {\n",
       "        text-align: right;\n",
       "    }\n",
       "</style>\n",
       "<table border=\"1\" class=\"dataframe\">\n",
       "  <thead>\n",
       "    <tr style=\"text-align: right;\">\n",
       "      <th></th>\n",
       "      <th>method</th>\n",
       "      <th>ranking</th>\n",
       "      <th>Estimate</th>\n",
       "      <th>se</th>\n",
       "    </tr>\n",
       "  </thead>\n",
       "  <tbody>\n",
       "    <tr>\n",
       "      <th>0</th>\n",
       "      <td>apiw</td>\n",
       "      <td>Q1</td>\n",
       "      <td>-0.430011</td>\n",
       "      <td>0.011363</td>\n",
       "    </tr>\n",
       "    <tr>\n",
       "      <th>1</th>\n",
       "      <td>apiw</td>\n",
       "      <td>Q2</td>\n",
       "      <td>-0.395391</td>\n",
       "      <td>0.011210</td>\n",
       "    </tr>\n",
       "    <tr>\n",
       "      <th>2</th>\n",
       "      <td>apiw</td>\n",
       "      <td>Q3</td>\n",
       "      <td>-0.362498</td>\n",
       "      <td>0.011041</td>\n",
       "    </tr>\n",
       "    <tr>\n",
       "      <th>3</th>\n",
       "      <td>apiw</td>\n",
       "      <td>Q4</td>\n",
       "      <td>-0.322003</td>\n",
       "      <td>0.010707</td>\n",
       "    </tr>\n",
       "    <tr>\n",
       "      <th>4</th>\n",
       "      <td>apiw</td>\n",
       "      <td>Q5</td>\n",
       "      <td>-0.222019</td>\n",
       "      <td>0.009806</td>\n",
       "    </tr>\n",
       "  </tbody>\n",
       "</table>\n",
       "</div>"
      ],
      "text/plain": [
       "  method ranking  Estimate        se\n",
       "0   apiw      Q1 -0.430011  0.011363\n",
       "1   apiw      Q2 -0.395391  0.011210\n",
       "2   apiw      Q3 -0.362498  0.011041\n",
       "3   apiw      Q4 -0.322003  0.010707\n",
       "4   apiw      Q5 -0.222019  0.009806"
      ]
     },
     "execution_count": 36,
     "metadata": {},
     "output_type": "execute_result"
    }
   ],
   "source": [
    "# Computing AIPW scores.\n",
    "tau_hat = est2.effect(X=X) #E[Y|X]\n",
    "\n",
    "residuals = est2.fit(Y, T, X=X, W=W, cache_values=True).residuals_\n",
    "T_res = residuals[1]\n",
    "e_hat = T - T_res  # P[W=1|X]\n",
    "\n",
    "Y_res = residuals[0]\n",
    "m_hat = Y - Y_res # E[Y|X]\n",
    "\n",
    "\n",
    "# Estimating mu.hat(X, 1) and mu.hat(X, 0) for obs in held-out sample\n",
    "# Note: to understand this, read equations 6-8 in this vignette:\n",
    "# https://grf-labs.github.io/grf/articles/muhats.html\n",
    "mu_hat0 = m_hat - e_hat * tau_hat        # E[Y|X,W=0] = E[Y|X] - e(X)*tau(X)\n",
    "mu_hat1 = m_hat + (1 - e_hat) * tau_hat  # E[Y|X,W=1] = E[Y|X] + (1 - e(X))*tau(X)\n",
    "\n",
    "# AIPW scores\n",
    "data['aipw_scores'] = tau_hat + T / e_hat * (Y -  mu_hat1) - (1 - T) / (1 - e_hat) * (Y -  mu_hat0)\n",
    "\n",
    "fmla = 'aipw_scores ~ 0 + C(ranking)'\n",
    "ols = smf.ols(fmla,data).fit(cov_type='HC2')\n",
    "\n",
    "# Retrieve the interaction coefficients\n",
    "ols = ols.summary2().tables[1].reset_index()\n",
    "forest_ate = ols.loc[ols[\"index\"].str.contains(\"ranking\")].iloc[:,1:3]\n",
    "forest_ate['method'] = \"apiw\"\n",
    "forest_ate['ranking'] = [f'Q{j}' for j in range(1,6)]\n",
    "order = [2,3,0,1] # setting column's order\n",
    "forest_ate = forest_ate[[forest_ate.columns[i] for i in order]]\n",
    "forest_ate.rename({'Coef.': 'Estimate', 'Std.Err.': 'se'}, axis=1, inplace = True) \n",
    "forest_ate"
   ]
  },
  {
   "cell_type": "markdown",
   "id": "f7cc3541-75e6-48b1-bfa4-a418e2c8996a",
   "metadata": {},
   "source": [
    "The code below plots the estimates."
   ]
  },
  {
   "cell_type": "code",
   "execution_count": 37,
   "id": "33fad1ee",
   "metadata": {
    "tags": []
   },
   "outputs": [
    {
     "data": {
      "image/png": "[encoded data removed]",
      "text/plain": [
       "<Figure size 720x432 with 1 Axes>"
      ]
     },
     "metadata": {
      "needs_background": "light"
     },
     "output_type": "display_data"
    }
   ],
   "source": [
    "# Concatenate the two results.\n",
    "res = pd.concat([forest_ate, ols_ate])\n",
    "\n",
    "# Plotting the point estimate of average treatment effect \n",
    "# and 95% confidence intervals around it.\n",
    "# Define figure, axes, and plot\n",
    "fig, ax = plt.subplots(figsize=(10, 6))\n",
    "\n",
    "\n",
    "ax.scatter(x=res['ranking'].unique(), \n",
    "         marker='o', s=40, \n",
    "         y=res[res.method == \"ols\"]['Estimate'], color = \"blue\")\n",
    "\n",
    "ax.scatter(x=np.arange(0.1,5,1), \n",
    "         marker='o', s=40, \n",
    "         y=res[res.method == \"apiw\"]['Estimate'], color = \"red\")\n",
    "\n",
    "eb1 = plt.errorbar(x=res['ranking'].unique(), y=res[res.method == \"ols\"]['Estimate'],\n",
    "            yerr= 2*res[res.method == \"ols\"]['se'],\n",
    "            color = 'darkblue', ls='', capsize = 4)\n",
    "eb1[-1][0].set_linestyle('--')\n",
    "\n",
    "eb2 = plt.errorbar(x=np.arange(0.1,5,1), y=res[res.method == \"apiw\"]['Estimate'],\n",
    "            yerr= 2*res[res.method == \"apiw\"]['se'],\n",
    "            color = 'darkred', ls='', capsize = 4)\n",
    "eb2[-1][0].set_linestyle('--')\n",
    "\n",
    "# Set title & labels\n",
    "plt.title('Average CATE within each ranking (as defined by predicted CATE)',fontsize=15)\n",
    "\n",
    "# add legend\n",
    "\n",
    "red_patch = mpatches.Patch(color='red', label='apiw')\n",
    "blue_patch = mpatches.Patch(color='blue', label='ols')\n",
    "\n",
    "plt.legend(title = \"Method\", handles=[blue_patch,red_patch],  bbox_to_anchor=(1.15, 0.7))\n",
    "    \n",
    "plt.show()"
   ]
  },
  {
   "cell_type": "markdown",
   "id": "8504d923",
   "metadata": {
    "tags": []
   },
   "source": [
    "When there isn't much detectable heterogeneity, the plot above can end up being non-monotonic. This can mean that the number of observations is too small for us to be able to detect subgroups with relevant differences in treatment effect.\n",
    "\n",
    "<font size=1>\n",
    "As an exercise, try running the previous two snippets on few data points (e.g., the first thousand observations only). You will likely see the \"non-monotonicity\" phenomenon just described.\n",
    "</font>\n",
    "\n",
    "Next, as we did for leaves in a causal tree, we can test e.g., if the prediction for groups 2, 3, etc. are larger than the one in the first group. Here's how to do it based on a difference-in-means estimator. Note the Romano-Wolf multiple-hypothesis testing correction."
   ]
  },
  {
   "cell_type": "code",
   "execution_count": 38,
   "id": "45cb6d8e",
   "metadata": {},
   "outputs": [
    {
     "name": "stderr",
     "output_type": "stream",
     "text": [
      "\n",
      "A value is trying to be set on a copy of a slice from a DataFrame\n",
      "\n",
      "See the caveats in the documentation: https://pandas.pydata.org/pandas-docs/stable/user_guide/indexing.html#returning-a-view-versus-a-copy\n",
      "\n",
      "A value is trying to be set on a copy of a slice from a DataFrame.\n",
      "Try using .loc[row_indexer,col_indexer] = value instead\n",
      "\n",
      "See the caveats in the documentation: https://pandas.pydata.org/pandas-docs/stable/user_guide/indexing.html#returning-a-view-versus-a-copy\n",
      "\n",
      "A value is trying to be set on a copy of a slice from a DataFrame.\n",
      "Try using .loc[row_indexer,col_indexer] = value instead\n",
      "\n",
      "See the caveats in the documentation: https://pandas.pydata.org/pandas-docs/stable/user_guide/indexing.html#returning-a-view-versus-a-copy\n",
      "\n",
      "A value is trying to be set on a copy of a slice from a DataFrame\n",
      "\n",
      "See the caveats in the documentation: https://pandas.pydata.org/pandas-docs/stable/user_guide/indexing.html#returning-a-view-versus-a-copy\n"
     ]
    },
    {
     "data": {
      "text/html": [
       "<div>\n",
       "<style scoped>\n",
       "    .dataframe tbody tr th:only-of-type {\n",
       "        vertical-align: middle;\n",
       "    }\n",
       "\n",
       "    .dataframe tbody tr th {\n",
       "        vertical-align: top;\n",
       "    }\n",
       "\n",
       "    .dataframe thead th {\n",
       "        text-align: right;\n",
       "    }\n",
       "</style>\n",
       "<table border=\"1\" class=\"dataframe\">\n",
       "  <thead>\n",
       "    <tr style=\"text-align: right;\">\n",
       "      <th></th>\n",
       "      <th>Comparative</th>\n",
       "      <th>Estimate</th>\n",
       "      <th>se</th>\n",
       "      <th>Orig.p-value</th>\n",
       "      <th>Adj. p-value</th>\n",
       "    </tr>\n",
       "  </thead>\n",
       "  <tbody>\n",
       "    <tr>\n",
       "      <th>6</th>\n",
       "      <td>Rank 2 - Rank 1</td>\n",
       "      <td>0.037759</td>\n",
       "      <td>0.014777</td>\n",
       "      <td>1.061615e-02</td>\n",
       "      <td>0.0101</td>\n",
       "    </tr>\n",
       "    <tr>\n",
       "      <th>7</th>\n",
       "      <td>Rank 3 - Rank 1</td>\n",
       "      <td>0.073683</td>\n",
       "      <td>0.014772</td>\n",
       "      <td>6.136161e-07</td>\n",
       "      <td>0.0000</td>\n",
       "    </tr>\n",
       "    <tr>\n",
       "      <th>8</th>\n",
       "      <td>Rank 4 - Rank 1</td>\n",
       "      <td>0.114819</td>\n",
       "      <td>0.014771</td>\n",
       "      <td>7.909513e-15</td>\n",
       "      <td>0.0000</td>\n",
       "    </tr>\n",
       "    <tr>\n",
       "      <th>9</th>\n",
       "      <td>Rank 5 - Rank 1</td>\n",
       "      <td>0.211857</td>\n",
       "      <td>0.014779</td>\n",
       "      <td>1.919290e-46</td>\n",
       "      <td>0.0000</td>\n",
       "    </tr>\n",
       "  </tbody>\n",
       "</table>\n",
       "</div>"
      ],
      "text/plain": [
       "       Comparative  Estimate        se  Orig.p-value  Adj. p-value\n",
       "6  Rank 2 - Rank 1  0.037759  0.014777  1.061615e-02        0.0101\n",
       "7  Rank 3 - Rank 1  0.073683  0.014772  6.136161e-07        0.0000\n",
       "8  Rank 4 - Rank 1  0.114819  0.014771  7.909513e-15        0.0000\n",
       "9  Rank 5 - Rank 1  0.211857  0.014779  1.919290e-46        0.0000"
      ]
     },
     "execution_count": 38,
     "metadata": {},
     "output_type": "execute_result"
    }
   ],
   "source": [
    "# Valid in randomized settings only.\n",
    "\n",
    "# y ~ ranking + w + ranking:w\n",
    "fmla = 'y ~  C(ranking) + w + w:C(ranking)'\n",
    "ols = smf.ols(fmla, data=data).fit()\n",
    "\n",
    "# Retrieve the interaction coefficients\n",
    "ols_1 = ols.summary2().tables[1].reset_index()\n",
    "interact = ols_1.loc[ols_1[\"index\"].str.contains(\"w:\")]\n",
    "ols_ate = summary_rw_lm(ols, indices=interact)\n",
    "ols_ate['ranking'] = [f'Rank {j} - Rank 1' for j in range(2,6)]\n",
    "order = [5,1,2,3,4] # setting column's order\n",
    "ols_ate = ols_ate[[ols_ate.columns[i] for i in order]]\n",
    "ols_ate.rename({'Coef.': 'Estimate', 'Std.Err.': 'se', 'ranking': 'Comparative'}, axis=1, inplace = True) \n",
    "ols_ate"
   ]
  },
  {
   "cell_type": "markdown",
   "id": "54a16864",
   "metadata": {},
   "source": [
    "Here's how to do it for AIPW-based estimates, again with Romano-Wolf correction for multiple hypothesis testing. "
   ]
  },
  {
   "cell_type": "code",
   "execution_count": 39,
   "id": "e84ba79c",
   "metadata": {},
   "outputs": [
    {
     "name": "stderr",
     "output_type": "stream",
     "text": [
      "\n",
      "A value is trying to be set on a copy of a slice from a DataFrame\n",
      "\n",
      "See the caveats in the documentation: https://pandas.pydata.org/pandas-docs/stable/user_guide/indexing.html#returning-a-view-versus-a-copy\n",
      "\n",
      "A value is trying to be set on a copy of a slice from a DataFrame.\n",
      "Try using .loc[row_indexer,col_indexer] = value instead\n",
      "\n",
      "See the caveats in the documentation: https://pandas.pydata.org/pandas-docs/stable/user_guide/indexing.html#returning-a-view-versus-a-copy\n",
      "\n",
      "A value is trying to be set on a copy of a slice from a DataFrame.\n",
      "Try using .loc[row_indexer,col_indexer] = value instead\n",
      "\n",
      "See the caveats in the documentation: https://pandas.pydata.org/pandas-docs/stable/user_guide/indexing.html#returning-a-view-versus-a-copy\n",
      "\n",
      "A value is trying to be set on a copy of a slice from a DataFrame\n",
      "\n",
      "See the caveats in the documentation: https://pandas.pydata.org/pandas-docs/stable/user_guide/indexing.html#returning-a-view-versus-a-copy\n"
     ]
    },
    {
     "data": {
      "text/html": [
       "<div>\n",
       "<style scoped>\n",
       "    .dataframe tbody tr th:only-of-type {\n",
       "        vertical-align: middle;\n",
       "    }\n",
       "\n",
       "    .dataframe tbody tr th {\n",
       "        vertical-align: top;\n",
       "    }\n",
       "\n",
       "    .dataframe thead th {\n",
       "        text-align: right;\n",
       "    }\n",
       "</style>\n",
       "<table border=\"1\" class=\"dataframe\">\n",
       "  <thead>\n",
       "    <tr style=\"text-align: right;\">\n",
       "      <th></th>\n",
       "      <th>Comparative</th>\n",
       "      <th>Estimate</th>\n",
       "      <th>se</th>\n",
       "      <th>Orig.p-value</th>\n",
       "      <th>Adj. p-value</th>\n",
       "    </tr>\n",
       "  </thead>\n",
       "  <tbody>\n",
       "    <tr>\n",
       "      <th>1</th>\n",
       "      <td>Rank 2 - Rank 1</td>\n",
       "      <td>0.034621</td>\n",
       "      <td>0.015330</td>\n",
       "      <td>2.392637e-02</td>\n",
       "      <td>0.0229</td>\n",
       "    </tr>\n",
       "    <tr>\n",
       "      <th>2</th>\n",
       "      <td>Rank 3 - Rank 1</td>\n",
       "      <td>0.067514</td>\n",
       "      <td>0.015328</td>\n",
       "      <td>1.063206e-05</td>\n",
       "      <td>0.0000</td>\n",
       "    </tr>\n",
       "    <tr>\n",
       "      <th>3</th>\n",
       "      <td>Rank 4 - Rank 1</td>\n",
       "      <td>0.108008</td>\n",
       "      <td>0.015330</td>\n",
       "      <td>1.891189e-12</td>\n",
       "      <td>0.0000</td>\n",
       "    </tr>\n",
       "    <tr>\n",
       "      <th>4</th>\n",
       "      <td>Rank 5 - Rank 1</td>\n",
       "      <td>0.207993</td>\n",
       "      <td>0.015334</td>\n",
       "      <td>8.835049e-42</td>\n",
       "      <td>0.0000</td>\n",
       "    </tr>\n",
       "  </tbody>\n",
       "</table>\n",
       "</div>"
      ],
      "text/plain": [
       "       Comparative  Estimate        se  Orig.p-value  Adj. p-value\n",
       "1  Rank 2 - Rank 1  0.034621  0.015330  2.392637e-02        0.0229\n",
       "2  Rank 3 - Rank 1  0.067514  0.015328  1.063206e-05        0.0000\n",
       "3  Rank 4 - Rank 1  0.108008  0.015330  1.891189e-12        0.0000\n",
       "4  Rank 5 - Rank 1  0.207993  0.015334  8.835049e-42        0.0000"
      ]
     },
     "execution_count": 39,
     "metadata": {},
     "output_type": "execute_result"
    }
   ],
   "source": [
    "# Valid in randomized and observational settings with unconfoundedness+overlap.\n",
    "\n",
    "# Using AIPW scores computed above\n",
    "fmla = 'aipw_scores ~  1 + C(ranking)'\n",
    "ols = smf.ols(fmla, data=data).fit()\n",
    "\n",
    "# Retrieve the interaction coefficients\n",
    "ols_1 = ols.summary2().tables[1].reset_index()\n",
    "interact = ols_1.loc[1:num_rankings +1 ,:]\n",
    "forest_ate = summary_rw_lm(ols, indices=interact)\n",
    "forest_ate['ranking'] = [f'Rank {j} - Rank 1' for j in range(2,6)]\n",
    "order = [5,1,2,3,4] # setting column's order\n",
    "forest_ate = forest_ate[[forest_ate.columns[i] for i in order]]\n",
    "forest_ate.rename({'Coef.': 'Estimate', 'Std.Err.': 'se', 'ranking': 'Comparative'}, axis=1, inplace = True) \n",
    "forest_ate"
   ]
  },
  {
   "cell_type": "markdown",
   "id": "87115d96-664e-4e6a-ad01-88c14a671fed",
   "metadata": {},
   "source": [
    "Finally, we can also check if different groups have different average covariate levels across rankings."
   ]
  },
  {
   "cell_type": "code",
   "execution_count": 40,
   "id": "f5afdc50",
   "metadata": {},
   "outputs": [
    {
     "name": "stderr",
     "output_type": "stream",
     "text": [
      "The frame.append method is deprecated and will be removed from pandas in a future version. Use pandas.concat instead.\n",
      "The frame.append method is deprecated and will be removed from pandas in a future version. Use pandas.concat instead.\n",
      "The frame.append method is deprecated and will be removed from pandas in a future version. Use pandas.concat instead.\n",
      "The frame.append method is deprecated and will be removed from pandas in a future version. Use pandas.concat instead.\n",
      "The frame.append method is deprecated and will be removed from pandas in a future version. Use pandas.concat instead.\n",
      "The frame.append method is deprecated and will be removed from pandas in a future version. Use pandas.concat instead.\n"
     ]
    },
    {
     "data": {
      "text/plain": [
       "[Text(0.5, 0, 'Q1'),\n",
       " Text(1.5, 0, 'Q2'),\n",
       " Text(2.5, 0, 'Q3'),\n",
       " Text(3.5, 0, 'Q4'),\n",
       " Text(4.5, 0, 'Q5')]"
      ]
     },
     "execution_count": 40,
     "metadata": {},
     "output_type": "execute_result"
    },
    {
     "data": {
      "image/png": "[encoded data removed]",
      "text/plain": [
       "<Figure size 720x720 with 2 Axes>"
      ]
     },
     "metadata": {
      "needs_background": "light"
     },
     "output_type": "display_data"
    }
   ],
   "source": [
    "df = pd.DataFrame()\n",
    "\n",
    "for var_name in covariates:\n",
    "    # Looping over covariate names\n",
    "    # Compute average covariate value per ranking (with correct standard errors)\n",
    "    form2 = var_name + \" ~ \" + \"0\" + \"+\" + \"C(ranking)\"\n",
    "    ols = smf.ols(formula=form2, data=data).fit(cov_type = 'HC2').summary2().tables[1].iloc[:, 0:2]\n",
    "    \n",
    "    \n",
    "    # Retrieve results\n",
    "    toget_index = ols[\"Coef.\"]\n",
    "    index = toget_index.index\n",
    "    cova1 = pd.Series(np.repeat(var_name,num_rankings), index = index, name = \"covariate\")\n",
    "    avg = pd.Series(ols[\"Coef.\"], name=\"avg\")\n",
    "    stderr = pd.Series(ols[\"Std.Err.\"], name = \"stderr\")\n",
    "    ranking = pd.Series(np.arange(1,num_rankings+1), index = index, name = \"ranking\")\n",
    "    scaling = pd.Series(norm.cdf((avg - np.mean(avg))/np.std(avg)), index = index, name = \"scaling\")\n",
    "    data2 = pd.DataFrame(data=X, columns= covariates)\n",
    "    variation1= np.std(avg) / np.std(data2[var_name])\n",
    "    variation = pd.Series(np.repeat(variation1, num_rankings), index = index, name = \"variation\")\n",
    "    labels = pd.Series(round(avg,2).astype('str') + \"\\n\" + \"(\" + round(stderr, 2).astype('str') + \")\", index = index, name = \"labels\")\n",
    "    \n",
    "    # Tally up results\n",
    "    df1 = pd.DataFrame(data = [cova1, avg, stderr, ranking, scaling, variation, labels]).T\n",
    "    df = df.append(df1)\n",
    "\n",
    "# a small optional trick to ensure heatmap will be in decreasing order of 'variation'\n",
    "df = df.sort_values(by = [\"variation\", \"covariate\"], ascending = False)\n",
    "\n",
    "df = df.iloc[0:(8*num_rankings), :]\n",
    "df1 = df.pivot(index = \"covariate\", columns = \"ranking\", values = [\"scaling\"]).astype(float)\n",
    "labels =  df.pivot(index = \"covariate\", columns = \"ranking\", values = [\"labels\"]).to_numpy()\n",
    "\n",
    "# plot heatmap\n",
    "ax = plt.subplots(figsize=(10, 10))\n",
    "ax = sns.heatmap(df1, \n",
    "                 annot=labels,\n",
    "                 annot_kws={\"size\": 12, 'color':\"k\"},\n",
    "                 fmt = '',\n",
    "                 cmap = \"YlGn\",\n",
    "                 linewidths=0,\n",
    "                 xticklabels = ranking)\n",
    "plt.tick_params( axis='y', labelsize=15, length=0, labelrotation=0)\n",
    "plt.tick_params( axis='x', labelsize=15, length=0, labelrotation=0)\n",
    "plt.xlabel(\"CATE estimate ranking\", fontsize= 10)\n",
    "plt.ylabel(\"\")\n",
    "ax.set_title(\"Average covariate values within group (based on CATE estimate ranking)\", fontsize=18, fontweight = \"bold\")\n",
    "(ax.set_xticklabels([\"Q1\", \"Q2\", \"Q3\", \"Q4\",\"Q5\"], size=15))"
   ]
  },
  {
   "cell_type": "markdown",
   "id": "d549d8ac-cff5-4316-b6ec-25e3a718b524",
   "metadata": {},
   "source": [
    "Interpret the heatmap above. What describes the subgroups with strongest and weakest estimated treatment effect? Are there variables that seem to increase or decrease monotonically across rankings?"
   ]
  },
  {
   "cell_type": "markdown",
   "id": "77420ae6",
   "metadata": {},
   "source": [
    "#### Best linear projection\n",
    "\n",
    "This function provides a doubly robust fit to the linear model $\\widehat{\\tau}(X_i) = \\beta_0 + A_i'\\beta_1$, where $A_i$ can be a subset of the covariate columns. The coefficients in this regression are suggestive of general trends, but they should not be interpret as partial effects -- that would only be true if the true model were really linear in covariates, and that's an assumption we shouldn't be willing to make in general"
   ]
  },
  {
   "cell_type": "code",
   "execution_count": 42,
   "id": "518a1e03",
   "metadata": {},
   "outputs": [],
   "source": [
    "# dataset from best linear proyection\n",
    "d = X\n",
    "d['tau_hat'] = tau_hat"
   ]
  },
  {
   "cell_type": "code",
   "execution_count": 43,
   "id": "ea011753",
   "metadata": {},
   "outputs": [
    {
     "data": {
      "text/html": [
       "<div>\n",
       "<style scoped>\n",
       "    .dataframe tbody tr th:only-of-type {\n",
       "        vertical-align: middle;\n",
       "    }\n",
       "\n",
       "    .dataframe tbody tr th {\n",
       "        vertical-align: top;\n",
       "    }\n",
       "\n",
       "    .dataframe thead th {\n",
       "        text-align: right;\n",
       "    }\n",
       "</style>\n",
       "<table border=\"1\" class=\"dataframe\">\n",
       "  <thead>\n",
       "    <tr style=\"text-align: right;\">\n",
       "      <th></th>\n",
       "      <th>Coef.</th>\n",
       "      <th>Std.Err.</th>\n",
       "      <th>z</th>\n",
       "      <th>P&gt;|z|</th>\n",
       "      <th>[0.025</th>\n",
       "      <th>0.975]</th>\n",
       "    </tr>\n",
       "  </thead>\n",
       "  <tbody>\n",
       "    <tr>\n",
       "      <th>Intercept</th>\n",
       "      <td>0.029668</td>\n",
       "      <td>0.002917</td>\n",
       "      <td>10.169237</td>\n",
       "      <td>2.720309e-24</td>\n",
       "      <td>0.023950</td>\n",
       "      <td>0.035386</td>\n",
       "    </tr>\n",
       "    <tr>\n",
       "      <th>age</th>\n",
       "      <td>-0.000240</td>\n",
       "      <td>0.000020</td>\n",
       "      <td>-12.226411</td>\n",
       "      <td>2.246461e-34</td>\n",
       "      <td>-0.000278</td>\n",
       "      <td>-0.000201</td>\n",
       "    </tr>\n",
       "    <tr>\n",
       "      <th>polviews</th>\n",
       "      <td>0.038560</td>\n",
       "      <td>0.000277</td>\n",
       "      <td>139.322948</td>\n",
       "      <td>0.000000e+00</td>\n",
       "      <td>0.038017</td>\n",
       "      <td>0.039102</td>\n",
       "    </tr>\n",
       "    <tr>\n",
       "      <th>income</th>\n",
       "      <td>0.012015</td>\n",
       "      <td>0.000146</td>\n",
       "      <td>82.440837</td>\n",
       "      <td>0.000000e+00</td>\n",
       "      <td>0.011729</td>\n",
       "      <td>0.012301</td>\n",
       "    </tr>\n",
       "    <tr>\n",
       "      <th>educ</th>\n",
       "      <td>-0.001681</td>\n",
       "      <td>0.000123</td>\n",
       "      <td>-13.620749</td>\n",
       "      <td>3.014620e-42</td>\n",
       "      <td>-0.001923</td>\n",
       "      <td>-0.001439</td>\n",
       "    </tr>\n",
       "    <tr>\n",
       "      <th>marital</th>\n",
       "      <td>-0.006065</td>\n",
       "      <td>0.000210</td>\n",
       "      <td>-28.886082</td>\n",
       "      <td>1.785792e-183</td>\n",
       "      <td>-0.006476</td>\n",
       "      <td>-0.005653</td>\n",
       "    </tr>\n",
       "    <tr>\n",
       "      <th>sex</th>\n",
       "      <td>-0.008247</td>\n",
       "      <td>0.000630</td>\n",
       "      <td>-13.094279</td>\n",
       "      <td>3.550317e-39</td>\n",
       "      <td>-0.009482</td>\n",
       "      <td>-0.007013</td>\n",
       "    </tr>\n",
       "  </tbody>\n",
       "</table>\n",
       "</div>"
      ],
      "text/plain": [
       "              Coef.  Std.Err.           z          P>|z|    [0.025    0.975]\n",
       "Intercept  0.029668  0.002917   10.169237   2.720309e-24  0.023950  0.035386\n",
       "age       -0.000240  0.000020  -12.226411   2.246461e-34 -0.000278 -0.000201\n",
       "polviews   0.038560  0.000277  139.322948   0.000000e+00  0.038017  0.039102\n",
       "income     0.012015  0.000146   82.440837   0.000000e+00  0.011729  0.012301\n",
       "educ      -0.001681  0.000123  -13.620749   3.014620e-42 -0.001923 -0.001439\n",
       "marital   -0.006065  0.000210  -28.886082  1.785792e-183 -0.006476 -0.005653\n",
       "sex       -0.008247  0.000630  -13.094279   3.550317e-39 -0.009482 -0.007013"
      ]
     },
     "execution_count": 43,
     "metadata": {},
     "output_type": "execute_result"
    }
   ],
   "source": [
    "smf.ols('m_hat ~ age+polviews+income+educ+marital+sex',d).fit(cov_type = 'HC3').summary2().tables[1]"
   ]
  },
  {
   "cell_type": "markdown",
   "id": "094e89bd",
   "metadata": {},
   "source": [
    "#### Partial dependence\n",
    "\n",
    "It may also be interesting to examine how our CATE estimates behave when we change a single covariate, while keeping all the other covariates at a some fixed value. In the plot below we evaluate a variable of interest across quantiles, while keeping all other covariates at their median. \n",
    "\n",
    "It is important to recognize that by keeping some variables at their median we may be evaluating the CATE at $x$ values in regions where there are few or no data points. Also, it may be the case that varying some particular variable while keeping others fixed may just not be very interesting.\n",
    "\n",
    "In what follows we'll again use `causal_forest` predictions, along with their variance estimates (set `estimate.variances=TRUE` when predicting to we get estimates of the asymptotic variance of the prediction for each point). Since `grf` predictions are asymptotically normal, we can construct 95\\% confidence intervals in the usual manner (i.e., $\\hat{\\tau}(x) \\pm 1.96\\sqrt{\\widehat{\\text{Var}}(\\hat{\\tau}(x))}$)."
   ]
  },
  {
   "cell_type": "code",
   "execution_count": 44,
   "id": "d3cbab6f",
   "metadata": {},
   "outputs": [
    {
     "name": "stderr",
     "output_type": "stream",
     "text": [
      "FixedFormatter should only be used together with FixedLocator\n"
     ]
    },
    {
     "data": {
      "text/plain": [
       "[Text(0.0, 0, '0'),\n",
       " Text(1.0, 0, '1'),\n",
       " Text(2.0, 0, '2'),\n",
       " Text(3.0, 0, '3'),\n",
       " Text(4.0, 0, '4'),\n",
       " Text(5.0, 0, '5'),\n",
       " Text(6.0, 0, '6'),\n",
       " Text(7.0, 0, '7'),\n",
       " Text(8.0, 0, '')]"
      ]
     },
     "execution_count": 44,
     "metadata": {},
     "output_type": "execute_result"
    },
    {
     "data": {
      "image/png": "[encoded data removed]",
      "text/plain": [
       "<Figure size 720x432 with 1 Axes>"
      ]
     },
     "metadata": {
      "needs_background": "light"
     },
     "output_type": "display_data"
    }
   ],
   "source": [
    "selected_covariate = \"polviews\"\n",
    "other_covariates = [\"age\", \"income\", \"educ\", \"marital\", \"sex\"]\n",
    "\n",
    "# Fitting a forest \n",
    "# (commented for convenience; no need re-fit if already fitted above)\n",
    "fmla = '0+age+polviews+income+educ+marital+sex'\n",
    "\n",
    "# Compute a grid of values appropriate for the selected covariate\n",
    "grid_size = 7 \n",
    "covariate_grid  = np.array_split(data[selected_covariate].sort_values().unique(),grid_size)\n",
    "\n",
    "# Take median of other covariates \n",
    "median = data[other_covariates].median(axis = 0).to_numpy().reshape(1,5)\n",
    "\n",
    "# # Construct a dataset\n",
    "data_grid = pd.concat([pd.DataFrame(median, columns = other_covariates)]*grid_size)\n",
    "data_grid[selected_covariate ] = [i[0] for i in covariate_grid]\n",
    "\n",
    "# Expand the data\n",
    "X_grid = patsy.dmatrix(fmla, data_grid, return_type = \"dataframe\")\n",
    "\n",
    "# Point predictions of the CATE and standard errors \n",
    "tau_hat = est2.effect(X=X_grid) \n",
    "tau_hat_ci = est2.effect_interval(X=X_grid) \n",
    "tau_hat_se  = (tau_hat_ci[1]-tau_hat_ci[0])/2\n",
    "\n",
    "1# Plot predictions for each group and 95% confidence intervals around them.\n",
    "fig, ax = plt.subplots(figsize=(10, 6))\n",
    "\n",
    "ax.scatter(x=data_grid[selected_covariate], \n",
    "         marker='o', s=40, \n",
    "         y=tau_hat, color = \"blue\")\n",
    "\n",
    "eb1 = plt.errorbar(x=data_grid[selected_covariate], y=tau_hat,\n",
    "            yerr= tau_hat_se,\n",
    "            color = 'darkblue', ls='', capsize = 4)\n",
    "eb1[-1][0].set_linestyle('--')\n",
    "\n",
    "ax.set_title(f\"Predicted treatment effect varying {selected_covariate} (other variables fixed at median)\",\n",
    "             fontsize=11, fontweight = \"bold\")\n",
    "(ax.set_xticklabels(range(0,8), size=10))"
   ]
  },
  {
   "cell_type": "markdown",
   "id": "a4cd4d7e-8258-431b-8fbf-c0936c21fb77",
   "metadata": {},
   "source": [
    "Note that, in this example, we got fairly large confidence intervals. This can be explained in two ways. First, as we mentioned above, there’s a data scarcity problem."
   ]
  },
  {
   "cell_type": "code",
   "execution_count": null,
   "id": "1ffc6664-036f-465a-9a4f-db6985bcc527",
   "metadata": {},
   "outputs": [],
   "source": [
    "As documented in the original paper on generalized random forests (Athey, Tibshirani and Wager, 2019), the coverage of grf confidence intervals can drop if the signal is too dense or too complex relative to the number of observations. Also, to a point, it’s possible to get tighter confidence intervals by increasing the number of trees; see this short vignette for more information.\n",
    "\n",
    "We can vary more than one variable at a time. The next snippet shows predictions and standard errors varying two variables."
   ]
  },
  {
   "cell_type": "code",
   "execution_count": 45,
   "id": "405934fc",
   "metadata": {},
   "outputs": [],
   "source": [
    "selected_covariates = ['polviews','age' ]\n",
    "other_covariates = [\"income\", \"educ\", \"marital\", \"sex\"]\n",
    "\n",
    "# Compute a grid of values appropriate for the selected covariate\n",
    "# See other options for constructing grids in the snippet above.\n",
    "x1_grid_size = 7\n",
    "x2_grid_size = 5\n",
    "x1_grid = np.array_split(data[selected_covariate].sort_values().unique(),grid_size)\n",
    "x2_grid = np.quantile(data[selected_covariates[1]], list(np.arange(0,1.01,1/4)))\n",
    "\n",
    "# Take median of other covariates \n",
    "median = data[other_covariates].median(axis = 0).to_numpy().reshape(1,4)\n",
    "\n",
    "# Construct dataset\n",
    "data_grid = pd.concat([pd.DataFrame(median, columns = other_covariates)]*(x1_grid_size))\n",
    "data_grid[selected_covariates[0]] =  [i[0] for i in covariate_grid]\n",
    "data_grid = pd.concat([data_grid]*(x2_grid_size))\n",
    "data_grid[selected_covariates[1]] =  list(pd.Series(x2_grid).repeat(7))\n",
    "\n",
    "# Expand the data\n",
    "X_grid = patsy.dmatrix(fmla, data_grid, return_type = \"dataframe\")\n",
    "\n",
    "# Forest-based point estimates of CATE and standard errors around them\n",
    "tau_hat = est2.effect(X=X_grid) \n",
    "tau_hat_ci = est2.effect_interval(X=X_grid) \n",
    "tau_hat_se  = (tau_hat_ci[1]-tau_hat_ci[0])/2\n",
    "\n",
    "# A vector of labels for plotting below\n",
    "df = X_grid\n",
    "df['tau_hat'] = tau_hat\n",
    "df['tau_hat_se'] = tau_hat_se"
   ]
  },
  {
   "cell_type": "code",
   "execution_count": 46,
   "id": "ccde1d10",
   "metadata": {},
   "outputs": [
    {
     "data": {
      "text/plain": [
       "Text(0.5, 1.0, 'Predicted treatment effect varying polviews andage (other variables fixed at median)')"
      ]
     },
     "execution_count": 46,
     "metadata": {},
     "output_type": "execute_result"
    },
    {
     "data": {
      "image/png": "[encoded data removed]",
      "text/plain": [
       "<Figure size 720x720 with 2 Axes>"
      ]
     },
     "metadata": {
      "needs_background": "light"
     },
     "output_type": "display_data"
    }
   ],
   "source": [
    "# order dataset\n",
    "df = df.sort_values(by = [\"polviews\",\"age\"], ascending = [False,True])\n",
    "labels = np.array(round(df.tau_hat,2).astype('str') + \"\\n\" + \"(\" + round(df.tau_hat_se, 2).astype('str') + \")\")\n",
    "labels = labels.reshape(7,5) # reshape labels \n",
    "df = df.pivot(\"polviews\",\"age\",\"tau_hat\") # reshape dataset\n",
    "df = df.sort_values(by = [\"polviews\"], ascending = False)\n",
    "\n",
    "# Plotting\n",
    "cbar_ticks = [-0.4,-0.35,-0.3,-0.25]\n",
    "ax = plt.subplots(figsize=(10, 10))\n",
    "\n",
    "ax = sns.heatmap(df,\n",
    "                 annot=labels,\n",
    "                 annot_kws={\"size\": 12, 'color':\"k\"},\n",
    "                 fmt = '',\n",
    "                 cmap = \"plasma\",\n",
    "                 linewidths=0,\n",
    "                cbar_kws={\"pad\":0.05, \"ticks\": cbar_ticks})\n",
    "cbar = ax.collections[0].colorbar\n",
    "cbar.set_ticklabels(['- 0.4', '- 0.35', '- 0.3', '- 0.25'])\n",
    "plt.xlabel(\"Age\", fontsize= 10)\n",
    "plt.ylabel(\"Polviews\", fontsize= 10)\n",
    "ax.set_title(f\"Predicted treatment effect varying {selected_covariates[0]} and{selected_covariates[1]} (other variables fixed at median)\",\n",
    "             fontsize=10, fontweight = \"bold\")"
   ]
  },
  {
   "cell_type": "markdown",
   "id": "3f0d1a5d-f181-4bf1-bce8-677b6d2b0cb3",
   "metadata": {},
   "source": [
    "## Further reading"
   ]
  },
  {
   "cell_type": "markdown",
   "id": "c74bde1f-bf78-45c7-873a-96aeb43b6515",
   "metadata": {},
   "source": [
    "A readable summary of different method for hypothesis testing correction is laid out in the introduction to [Clarke, Romano and Wolf (2009)](http://ftp.iza.org/dp12845.pdf).\n",
    "\n",
    "[Athey and Wager (2019)](https://arxiv.org/abs/1902.07409) shows an application of causal forests to heterogeity analysis in a setting with clustering."
   ]
  }
 ],
 "metadata": {
  "kernelspec": {
   "display_name": "Python 3 (ipykernel)",
   "language": "python",
   "name": "python3"
  },
  "language_info": {
   "codemirror_mode": {
    "name": "ipython",
    "version": 3
   },
   "file_extension": ".py",
   "mimetype": "text/x-python",
   "name": "python",
   "nbconvert_exporter": "python",
   "pygments_lexer": "ipython3",
   "version": "3.9.7"
  }
 },
 "nbformat": 4,
 "nbformat_minor": 5
}
