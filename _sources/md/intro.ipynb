{
 "cells": [
  {
   "cell_type": "markdown",
   "id": "cf46ff63",
   "metadata": {},
   "source": [
    "# Machine Learning-Based Causal Inference\n",
    "\n",
    "This Python JupyterBook has been created based on the tutorials of the course [\"MGTECON 634: Machine Learning and Causal Inference\"](https://explorecourses.stanford.edu/search?view=catalog&filter-coursestatus-Active=on&q=MGTECON%20634:%20Machine%20Learning%20and%20Causal%20Inference&academicYear=20182019) at Stanford taught by Professor Susan Athey. All the scripts were in R-markdown and we decided to translate each of them into Python, so students can manage both programing languages. We aim to add more empirical examples were the ML and CI tools can be applied using both programming languages.\n",
    "\n",
    "```{tableofcontents}\n",
    "\n",
    "```\n",
    "\n",
    "```{admonition} Incoming website\n",
    "This JupyterBook will receive future updates. It's a draft. Not ready for publication.\n",
    "```\n",
    "\n",
    "```{admonition} Repository\n",
    "You can find all of these Python scripts in this [repository](https://github.com/d2cml-ai/mgtecon634_python/tree/main/notebooks).\n",
    "```"
   ]
  }
 ],
 "metadata": {
  "jupytext": {
   "text_representation": {
    "extension": ".md",
    "format_name": "myst"
   }
  },
  "kernelspec": {
   "display_name": "Python 3",
   "language": "python",
   "name": "python3"
  },
  "source_map": [
   10
  ]
 },
 "nbformat": 4,
 "nbformat_minor": 5
}